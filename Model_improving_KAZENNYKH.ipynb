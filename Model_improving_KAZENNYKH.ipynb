{
 "cells": [
  {
   "cell_type": "code",
   "execution_count": 1,
   "id": "d6f21652-af89-4349-8aea-ef11a02e3bf0",
   "metadata": {
    "id": "d6f21652-af89-4349-8aea-ef11a02e3bf0"
   },
   "outputs": [],
   "source": [
    "import numpy as np\n",
    "import pandas as pd\n",
    "import matplotlib.pyplot as plt\n",
    "import seaborn as sns\n",
    "\n",
    "from datetime import date\n",
    "from sklearn.linear_model import LinearRegression\n",
    "from sklearn.preprocessing import FunctionTransformer\n",
    "from sklearn.metrics import mean_absolute_error\n",
    "#from sklego.preprocessing import RepeatingBasisFunction\n",
    "\n",
    "from sklearn.model_selection import train_test_split, GridSearchCV\n",
    "from sklearn.preprocessing import StandardScaler, MinMaxScaler, RobustScaler\n",
    "from sklearn.compose import ColumnTransformer\n",
    "from sklearn.pipeline import Pipeline\n",
    "from sklearn.linear_model import LinearRegression, Ridge, Lasso\n",
    "from sklearn.metrics import mean_squared_error\n",
    "from sklearn.metrics import r2_score\n",
    "\n",
    "%matplotlib inline"
   ]
  },
  {
   "cell_type": "code",
   "execution_count": 2,
   "id": "98d48bd8-57a1-4930-b5c1-8d332d471f64",
   "metadata": {
    "colab": {
     "base_uri": "https://localhost:8080/",
     "height": 269
    },
    "id": "98d48bd8-57a1-4930-b5c1-8d332d471f64",
    "outputId": "8cd41046-64d0-4de3-b9f5-3de9c0e46146"
   },
   "outputs": [
    {
     "data": {
      "text/html": [
       "<div>\n",
       "<style scoped>\n",
       "    .dataframe tbody tr th:only-of-type {\n",
       "        vertical-align: middle;\n",
       "    }\n",
       "\n",
       "    .dataframe tbody tr th {\n",
       "        vertical-align: top;\n",
       "    }\n",
       "\n",
       "    .dataframe thead th {\n",
       "        text-align: right;\n",
       "    }\n",
       "</style>\n",
       "<table border=\"1\" class=\"dataframe\">\n",
       "  <thead>\n",
       "    <tr style=\"text-align: right;\">\n",
       "      <th></th>\n",
       "      <th>k1</th>\n",
       "      <th>k2</th>\n",
       "      <th>k3</th>\n",
       "      <th>k4</th>\n",
       "    </tr>\n",
       "  </thead>\n",
       "  <tbody>\n",
       "    <tr>\n",
       "      <th>0</th>\n",
       "      <td>one</td>\n",
       "      <td>1</td>\n",
       "      <td>1</td>\n",
       "      <td>1</td>\n",
       "    </tr>\n",
       "    <tr>\n",
       "      <th>1</th>\n",
       "      <td>two</td>\n",
       "      <td>1</td>\n",
       "      <td>1</td>\n",
       "      <td>1</td>\n",
       "    </tr>\n",
       "    <tr>\n",
       "      <th>2</th>\n",
       "      <td>one</td>\n",
       "      <td>2</td>\n",
       "      <td>2</td>\n",
       "      <td>1</td>\n",
       "    </tr>\n",
       "    <tr>\n",
       "      <th>3</th>\n",
       "      <td>two</td>\n",
       "      <td>3</td>\n",
       "      <td>3</td>\n",
       "      <td>1</td>\n",
       "    </tr>\n",
       "    <tr>\n",
       "      <th>4</th>\n",
       "      <td>one</td>\n",
       "      <td>3</td>\n",
       "      <td>3</td>\n",
       "      <td>1</td>\n",
       "    </tr>\n",
       "    <tr>\n",
       "      <th>5</th>\n",
       "      <td>two</td>\n",
       "      <td>4</td>\n",
       "      <td>4</td>\n",
       "      <td>1</td>\n",
       "    </tr>\n",
       "    <tr>\n",
       "      <th>6</th>\n",
       "      <td>two</td>\n",
       "      <td>4</td>\n",
       "      <td>4</td>\n",
       "      <td>1</td>\n",
       "    </tr>\n",
       "  </tbody>\n",
       "</table>\n",
       "</div>"
      ],
      "text/plain": [
       "    k1  k2  k3  k4\n",
       "0  one   1   1   1\n",
       "1  two   1   1   1\n",
       "2  one   2   2   1\n",
       "3  two   3   3   1\n",
       "4  one   3   3   1\n",
       "5  two   4   4   1\n",
       "6  two   4   4   1"
      ]
     },
     "execution_count": 2,
     "metadata": {},
     "output_type": "execute_result"
    }
   ],
   "source": [
    "data = pd.DataFrame({\"k1\": [\"one\", \"two\"] * 3 + [\"two\"], \"k2\": [1, 1, 2, 3, 3, 4, 4],\n",
    "                     \"k3\": [1, 1, 2, 3, 3, 4, 4], \"k4\":[1, 1, 1, 1, 1, 1, 1]})\n",
    "data"
   ]
  },
  {
   "cell_type": "code",
   "execution_count": 3,
   "id": "bb74a899-e100-4b5b-8739-d4d3588d8b26",
   "metadata": {
    "colab": {
     "base_uri": "https://localhost:8080/",
     "height": 303
    },
    "id": "bb74a899-e100-4b5b-8739-d4d3588d8b26",
    "outputId": "abb59550-0bd1-4427-8591-c3f577b3dcf8"
   },
   "outputs": [
    {
     "data": {
      "text/plain": [
       "0    False\n",
       "1    False\n",
       "2    False\n",
       "3    False\n",
       "4    False\n",
       "5    False\n",
       "6     True\n",
       "dtype: bool"
      ]
     },
     "execution_count": 3,
     "metadata": {},
     "output_type": "execute_result"
    }
   ],
   "source": [
    "data.duplicated()"
   ]
  },
  {
   "cell_type": "code",
   "execution_count": 4,
   "id": "cef50624-aac3-4f64-b835-e47931da670e",
   "metadata": {
    "colab": {
     "base_uri": "https://localhost:8080/",
     "height": 237
    },
    "id": "cef50624-aac3-4f64-b835-e47931da670e",
    "outputId": "38c869ea-c55b-480f-a87a-f059db1cf630"
   },
   "outputs": [
    {
     "data": {
      "text/html": [
       "<div>\n",
       "<style scoped>\n",
       "    .dataframe tbody tr th:only-of-type {\n",
       "        vertical-align: middle;\n",
       "    }\n",
       "\n",
       "    .dataframe tbody tr th {\n",
       "        vertical-align: top;\n",
       "    }\n",
       "\n",
       "    .dataframe thead th {\n",
       "        text-align: right;\n",
       "    }\n",
       "</style>\n",
       "<table border=\"1\" class=\"dataframe\">\n",
       "  <thead>\n",
       "    <tr style=\"text-align: right;\">\n",
       "      <th></th>\n",
       "      <th>k1</th>\n",
       "      <th>k2</th>\n",
       "      <th>k3</th>\n",
       "      <th>k4</th>\n",
       "    </tr>\n",
       "  </thead>\n",
       "  <tbody>\n",
       "    <tr>\n",
       "      <th>0</th>\n",
       "      <td>one</td>\n",
       "      <td>1</td>\n",
       "      <td>1</td>\n",
       "      <td>1</td>\n",
       "    </tr>\n",
       "    <tr>\n",
       "      <th>1</th>\n",
       "      <td>two</td>\n",
       "      <td>1</td>\n",
       "      <td>1</td>\n",
       "      <td>1</td>\n",
       "    </tr>\n",
       "    <tr>\n",
       "      <th>2</th>\n",
       "      <td>one</td>\n",
       "      <td>2</td>\n",
       "      <td>2</td>\n",
       "      <td>1</td>\n",
       "    </tr>\n",
       "    <tr>\n",
       "      <th>3</th>\n",
       "      <td>two</td>\n",
       "      <td>3</td>\n",
       "      <td>3</td>\n",
       "      <td>1</td>\n",
       "    </tr>\n",
       "    <tr>\n",
       "      <th>4</th>\n",
       "      <td>one</td>\n",
       "      <td>3</td>\n",
       "      <td>3</td>\n",
       "      <td>1</td>\n",
       "    </tr>\n",
       "    <tr>\n",
       "      <th>5</th>\n",
       "      <td>two</td>\n",
       "      <td>4</td>\n",
       "      <td>4</td>\n",
       "      <td>1</td>\n",
       "    </tr>\n",
       "  </tbody>\n",
       "</table>\n",
       "</div>"
      ],
      "text/plain": [
       "    k1  k2  k3  k4\n",
       "0  one   1   1   1\n",
       "1  two   1   1   1\n",
       "2  one   2   2   1\n",
       "3  two   3   3   1\n",
       "4  one   3   3   1\n",
       "5  two   4   4   1"
      ]
     },
     "execution_count": 4,
     "metadata": {},
     "output_type": "execute_result"
    }
   ],
   "source": [
    "data.drop_duplicates()"
   ]
  },
  {
   "cell_type": "code",
   "execution_count": 5,
   "id": "00f18e5b-97d2-4728-8993-fb28590196a2",
   "metadata": {
    "colab": {
     "base_uri": "https://localhost:8080/",
     "height": 269
    },
    "id": "00f18e5b-97d2-4728-8993-fb28590196a2",
    "outputId": "b5f5deba-010e-4570-d616-f25241ab57f4"
   },
   "outputs": [
    {
     "data": {
      "text/html": [
       "<div>\n",
       "<style scoped>\n",
       "    .dataframe tbody tr th:only-of-type {\n",
       "        vertical-align: middle;\n",
       "    }\n",
       "\n",
       "    .dataframe tbody tr th {\n",
       "        vertical-align: top;\n",
       "    }\n",
       "\n",
       "    .dataframe thead th {\n",
       "        text-align: right;\n",
       "    }\n",
       "</style>\n",
       "<table border=\"1\" class=\"dataframe\">\n",
       "  <thead>\n",
       "    <tr style=\"text-align: right;\">\n",
       "      <th></th>\n",
       "      <th>k1</th>\n",
       "      <th>k2</th>\n",
       "      <th>k4</th>\n",
       "    </tr>\n",
       "  </thead>\n",
       "  <tbody>\n",
       "    <tr>\n",
       "      <th>0</th>\n",
       "      <td>one</td>\n",
       "      <td>1</td>\n",
       "      <td>1</td>\n",
       "    </tr>\n",
       "    <tr>\n",
       "      <th>1</th>\n",
       "      <td>two</td>\n",
       "      <td>1</td>\n",
       "      <td>1</td>\n",
       "    </tr>\n",
       "    <tr>\n",
       "      <th>2</th>\n",
       "      <td>one</td>\n",
       "      <td>2</td>\n",
       "      <td>1</td>\n",
       "    </tr>\n",
       "    <tr>\n",
       "      <th>3</th>\n",
       "      <td>two</td>\n",
       "      <td>3</td>\n",
       "      <td>1</td>\n",
       "    </tr>\n",
       "    <tr>\n",
       "      <th>4</th>\n",
       "      <td>one</td>\n",
       "      <td>3</td>\n",
       "      <td>1</td>\n",
       "    </tr>\n",
       "    <tr>\n",
       "      <th>5</th>\n",
       "      <td>two</td>\n",
       "      <td>4</td>\n",
       "      <td>1</td>\n",
       "    </tr>\n",
       "    <tr>\n",
       "      <th>6</th>\n",
       "      <td>two</td>\n",
       "      <td>4</td>\n",
       "      <td>1</td>\n",
       "    </tr>\n",
       "  </tbody>\n",
       "</table>\n",
       "</div>"
      ],
      "text/plain": [
       "    k1 k2 k4\n",
       "0  one  1  1\n",
       "1  two  1  1\n",
       "2  one  2  1\n",
       "3  two  3  1\n",
       "4  one  3  1\n",
       "5  two  4  1\n",
       "6  two  4  1"
      ]
     },
     "execution_count": 5,
     "metadata": {},
     "output_type": "execute_result"
    }
   ],
   "source": [
    "data.T.drop_duplicates().T"
   ]
  },
  {
   "cell_type": "code",
   "execution_count": 6,
   "id": "82e65c60-6af0-4531-b097-c70fe60a8fae",
   "metadata": {
    "colab": {
     "base_uri": "https://localhost:8080/",
     "height": 269
    },
    "id": "82e65c60-6af0-4531-b097-c70fe60a8fae",
    "outputId": "5b8a27f5-2b5e-4bf6-965a-2293a6f4fcbe"
   },
   "outputs": [
    {
     "data": {
      "text/html": [
       "<div>\n",
       "<style scoped>\n",
       "    .dataframe tbody tr th:only-of-type {\n",
       "        vertical-align: middle;\n",
       "    }\n",
       "\n",
       "    .dataframe tbody tr th {\n",
       "        vertical-align: top;\n",
       "    }\n",
       "\n",
       "    .dataframe thead th {\n",
       "        text-align: right;\n",
       "    }\n",
       "</style>\n",
       "<table border=\"1\" class=\"dataframe\">\n",
       "  <thead>\n",
       "    <tr style=\"text-align: right;\">\n",
       "      <th></th>\n",
       "      <th>k1</th>\n",
       "      <th>k2</th>\n",
       "      <th>k3</th>\n",
       "    </tr>\n",
       "  </thead>\n",
       "  <tbody>\n",
       "    <tr>\n",
       "      <th>0</th>\n",
       "      <td>one</td>\n",
       "      <td>1</td>\n",
       "      <td>1</td>\n",
       "    </tr>\n",
       "    <tr>\n",
       "      <th>1</th>\n",
       "      <td>two</td>\n",
       "      <td>1</td>\n",
       "      <td>1</td>\n",
       "    </tr>\n",
       "    <tr>\n",
       "      <th>2</th>\n",
       "      <td>one</td>\n",
       "      <td>2</td>\n",
       "      <td>2</td>\n",
       "    </tr>\n",
       "    <tr>\n",
       "      <th>3</th>\n",
       "      <td>two</td>\n",
       "      <td>3</td>\n",
       "      <td>3</td>\n",
       "    </tr>\n",
       "    <tr>\n",
       "      <th>4</th>\n",
       "      <td>one</td>\n",
       "      <td>3</td>\n",
       "      <td>3</td>\n",
       "    </tr>\n",
       "    <tr>\n",
       "      <th>5</th>\n",
       "      <td>two</td>\n",
       "      <td>4</td>\n",
       "      <td>4</td>\n",
       "    </tr>\n",
       "    <tr>\n",
       "      <th>6</th>\n",
       "      <td>two</td>\n",
       "      <td>4</td>\n",
       "      <td>4</td>\n",
       "    </tr>\n",
       "  </tbody>\n",
       "</table>\n",
       "</div>"
      ],
      "text/plain": [
       "    k1  k2  k3\n",
       "0  one   1   1\n",
       "1  two   1   1\n",
       "2  one   2   2\n",
       "3  two   3   3\n",
       "4  one   3   3\n",
       "5  two   4   4\n",
       "6  two   4   4"
      ]
     },
     "execution_count": 6,
     "metadata": {},
     "output_type": "execute_result"
    }
   ],
   "source": [
    "data.drop(data.columns[data.nunique() == 1], axis=1)"
   ]
  },
  {
   "cell_type": "markdown",
   "id": "2d222c6f-ee6e-4041-9e8b-c25a50398a26",
   "metadata": {
    "id": "2d222c6f-ee6e-4041-9e8b-c25a50398a26"
   },
   "source": [
    "Приведение к единой шкале: StandardScaler, MinMaxScaler"
   ]
  },
  {
   "cell_type": "code",
   "execution_count": 7,
   "id": "b92a017c-843a-4bcf-afba-285402875a54",
   "metadata": {
    "id": "b92a017c-843a-4bcf-afba-285402875a54",
    "outputId": "203fae72-6880-4db4-e21d-eec849604f36"
   },
   "outputs": [
    {
     "data": {
      "text/plain": [
       "array([[0.  , 0.  ],\n",
       "       [0.25, 0.25],\n",
       "       [0.5 , 0.5 ],\n",
       "       [1.  , 1.  ]])"
      ]
     },
     "execution_count": 7,
     "metadata": {},
     "output_type": "execute_result"
    }
   ],
   "source": [
    "from sklearn.preprocessing import MinMaxScaler, StandardScaler\n",
    "data = [[-1, 2], [-0.5, 6], [0, 10], [1, 18]]\n",
    "scaler = MinMaxScaler()\n",
    "scaler.fit_transform(data)"
   ]
  },
  {
   "cell_type": "code",
   "execution_count": 8,
   "id": "ef46712e-8843-4541-be10-8d70f8ecfbaf",
   "metadata": {
    "id": "ef46712e-8843-4541-be10-8d70f8ecfbaf",
    "outputId": "a3895bef-4c94-48a4-af38-daa5529d4a8e"
   },
   "outputs": [
    {
     "data": {
      "text/plain": [
       "array([[-1.18321596, -1.18321596],\n",
       "       [-0.50709255, -0.50709255],\n",
       "       [ 0.16903085,  0.16903085],\n",
       "       [ 1.52127766,  1.52127766]])"
      ]
     },
     "execution_count": 8,
     "metadata": {},
     "output_type": "execute_result"
    }
   ],
   "source": [
    "scaler = StandardScaler()\n",
    "scaler.fit_transform(data)"
   ]
  },
  {
   "cell_type": "markdown",
   "id": "6bcbefe2-9c43-49e3-b8df-573e62d6423b",
   "metadata": {
    "id": "6bcbefe2-9c43-49e3-b8df-573e62d6423b"
   },
   "source": [
    "Логарифмирование, преобразование Бокса-Кокса"
   ]
  },
  {
   "cell_type": "code",
   "execution_count": 9,
   "id": "604e42de-1f57-41bf-ab4a-593edeeb7590",
   "metadata": {
    "id": "604e42de-1f57-41bf-ab4a-593edeeb7590",
    "outputId": "464cf8a4-4fd8-49be-e7db-6504874e29e4"
   },
   "outputs": [
    {
     "name": "stderr",
     "output_type": "stream",
     "text": [
      "C:\\Users\\Maksim\\AppData\\Local\\Temp\\ipykernel_30544\\645094770.py:4: UserWarning: \n",
      "\n",
      "`distplot` is a deprecated function and will be removed in seaborn v0.14.0.\n",
      "\n",
      "Please adapt your code to use either `displot` (a figure-level function with\n",
      "similar flexibility) or `kdeplot` (an axes-level function for kernel density plots).\n",
      "\n",
      "For a guide to updating your code to use the new functions, please see\n",
      "https://gist.github.com/mwaskom/de44147ed2974457ad6372750bbe5751\n",
      "\n",
      "  sns.distplot(data, hist= False, kde= True)\n"
     ]
    },
    {
     "data": {
      "text/plain": [
       "<Axes: ylabel='Density'>"
      ]
     },
     "execution_count": 9,
     "metadata": {},
     "output_type": "execute_result"
    },
    {
     "data": {
      "image/png": "[encoded data removed]",
      "text/plain": [
       "<Figure size 640x480 with 1 Axes>"
      ]
     },
     "metadata": {},
     "output_type": "display_data"
    }
   ],
   "source": [
    "from scipy. stats import boxcox\n",
    "\n",
    "data = np.random.exponential(size= 1000)\n",
    "sns.distplot(data, hist= False, kde= True)"
   ]
  },
  {
   "cell_type": "code",
   "execution_count": 10,
   "id": "96781df3-e5ab-46e9-87bb-22a22e307dbb",
   "metadata": {
    "id": "96781df3-e5ab-46e9-87bb-22a22e307dbb",
    "outputId": "e7881d59-4137-4174-c547-5e4432fc94e9"
   },
   "outputs": [
    {
     "name": "stderr",
     "output_type": "stream",
     "text": [
      "C:\\Users\\Maksim\\AppData\\Local\\Temp\\ipykernel_30544\\2839650521.py:2: UserWarning: \n",
      "\n",
      "`distplot` is a deprecated function and will be removed in seaborn v0.14.0.\n",
      "\n",
      "Please adapt your code to use either `displot` (a figure-level function with\n",
      "similar flexibility) or `kdeplot` (an axes-level function for kernel density plots).\n",
      "\n",
      "For a guide to updating your code to use the new functions, please see\n",
      "https://gist.github.com/mwaskom/de44147ed2974457ad6372750bbe5751\n",
      "\n",
      "  sns.distplot(transformed_data, hist=False, kde=True)\n"
     ]
    },
    {
     "data": {
      "text/plain": [
       "<Axes: ylabel='Density'>"
      ]
     },
     "execution_count": 10,
     "metadata": {},
     "output_type": "execute_result"
    },
    {
     "data": {
      "image/png": "[encoded data removed]",
      "text/plain": [
       "<Figure size 640x480 with 1 Axes>"
      ]
     },
     "metadata": {},
     "output_type": "display_data"
    }
   ],
   "source": [
    "transformed_data = np.log(data)\n",
    "sns.distplot(transformed_data, hist=False, kde=True)"
   ]
  },
  {
   "cell_type": "code",
   "execution_count": 11,
   "id": "9a13da8f-35f1-4d08-bc3a-3fb90b302bc2",
   "metadata": {
    "id": "9a13da8f-35f1-4d08-bc3a-3fb90b302bc2",
    "outputId": "4df10c54-0ce0-4ced-a8dc-5035a77de79a"
   },
   "outputs": [
    {
     "name": "stderr",
     "output_type": "stream",
     "text": [
      "C:\\Users\\Maksim\\AppData\\Local\\Temp\\ipykernel_30544\\673703192.py:3: UserWarning: \n",
      "\n",
      "`distplot` is a deprecated function and will be removed in seaborn v0.14.0.\n",
      "\n",
      "Please adapt your code to use either `displot` (a figure-level function with\n",
      "similar flexibility) or `kdeplot` (an axes-level function for kernel density plots).\n",
      "\n",
      "For a guide to updating your code to use the new functions, please see\n",
      "https://gist.github.com/mwaskom/de44147ed2974457ad6372750bbe5751\n",
      "\n",
      "  sns.distplot(transformed_data, hist=False , kde=True)\n"
     ]
    },
    {
     "data": {
      "text/plain": [
       "<Axes: ylabel='Density'>"
      ]
     },
     "execution_count": 11,
     "metadata": {},
     "output_type": "execute_result"
    },
    {
     "data": {
      "image/png": "[encoded data removed]",
      "text/plain": [
       "<Figure size 640x480 with 1 Axes>"
      ]
     },
     "metadata": {},
     "output_type": "display_data"
    }
   ],
   "source": [
    "transformed_data, best_lambda = boxcox(data)\n",
    "\n",
    "sns.distplot(transformed_data, hist=False , kde=True)"
   ]
  },
  {
   "cell_type": "code",
   "execution_count": 12,
   "id": "e5cdd77b-ad3f-496c-9263-055f4caa1bc9",
   "metadata": {
    "id": "e5cdd77b-ad3f-496c-9263-055f4caa1bc9",
    "outputId": "1705508d-4da3-412d-9486-e7cd3ddc293c"
   },
   "outputs": [
    {
     "data": {
      "text/plain": [
       "0.25287412475940646"
      ]
     },
     "execution_count": 12,
     "metadata": {},
     "output_type": "execute_result"
    }
   ],
   "source": [
    "best_lambda"
   ]
  },
  {
   "cell_type": "markdown",
   "id": "682fe102-6387-40c9-9dd1-51ce07fdf058",
   "metadata": {
    "id": "682fe102-6387-40c9-9dd1-51ce07fdf058"
   },
   "source": [
    "# Домашнее задание"
   ]
  },
  {
   "cell_type": "code",
   "execution_count": 13,
   "id": "b4fde0e8-d4c8-4c23-99d9-2d84a69425a6",
   "metadata": {
    "id": "b4fde0e8-d4c8-4c23-99d9-2d84a69425a6"
   },
   "outputs": [],
   "source": [
    "pd.set_option('display.max_columns', None)\n",
    "df = pd.read_csv(\"https://raw.githubusercontent.com/katarina74/ml_lessons/main/lesson_2/data/techparams_train.csv\")"
   ]
  },
  {
   "cell_type": "code",
   "execution_count": 14,
   "id": "eaf03b93",
   "metadata": {},
   "outputs": [
    {
     "data": {
      "text/html": [
       "<div>\n",
       "<style scoped>\n",
       "    .dataframe tbody tr th:only-of-type {\n",
       "        vertical-align: middle;\n",
       "    }\n",
       "\n",
       "    .dataframe tbody tr th {\n",
       "        vertical-align: top;\n",
       "    }\n",
       "\n",
       "    .dataframe thead th {\n",
       "        text-align: right;\n",
       "    }\n",
       "</style>\n",
       "<table border=\"1\" class=\"dataframe\">\n",
       "  <thead>\n",
       "    <tr style=\"text-align: right;\">\n",
       "      <th></th>\n",
       "      <th>back-suspension</th>\n",
       "      <th>battery-capacity</th>\n",
       "      <th>charge-time</th>\n",
       "      <th>compression</th>\n",
       "      <th>consumption-mixed</th>\n",
       "      <th>cylinders-order</th>\n",
       "      <th>cylinders-value</th>\n",
       "      <th>engine-feeding</th>\n",
       "      <th>engine-start</th>\n",
       "      <th>engine-stop</th>\n",
       "      <th>engine-type</th>\n",
       "      <th>gear-type</th>\n",
       "      <th>luxury</th>\n",
       "      <th>max-speed</th>\n",
       "      <th>power-electro-kw</th>\n",
       "      <th>supply-system</th>\n",
       "      <th>valves</th>\n",
       "      <th>valvetrain</th>\n",
       "      <th>weight</th>\n",
       "      <th>configurations_auto-premiere</th>\n",
       "      <th>configurations_back-wheel-base</th>\n",
       "      <th>configurations_front-brake</th>\n",
       "      <th>configurations_safety-rating</th>\n",
       "      <th>configurations_seats</th>\n",
       "      <th>configurations_tank-volume</th>\n",
       "      <th>supergen_year-stop</th>\n",
       "      <th>models_country-from</th>\n",
       "      <th>models_group</th>\n",
       "      <th>models_light-and-commercial</th>\n",
       "      <th>models_male</th>\n",
       "      <th>target</th>\n",
       "    </tr>\n",
       "  </thead>\n",
       "  <tbody>\n",
       "    <tr>\n",
       "      <th>0</th>\n",
       "      <td>9</td>\n",
       "      <td>-1.0</td>\n",
       "      <td>36457</td>\n",
       "      <td>9.0</td>\n",
       "      <td>4.3</td>\n",
       "      <td>0</td>\n",
       "      <td>3</td>\n",
       "      <td>4</td>\n",
       "      <td>2006</td>\n",
       "      <td>2018</td>\n",
       "      <td>2</td>\n",
       "      <td>1</td>\n",
       "      <td>36646</td>\n",
       "      <td>-1.0</td>\n",
       "      <td>-1.0</td>\n",
       "      <td>0</td>\n",
       "      <td>2</td>\n",
       "      <td>0</td>\n",
       "      <td>820.0</td>\n",
       "      <td>36479</td>\n",
       "      <td>1300.0</td>\n",
       "      <td>1</td>\n",
       "      <td>2</td>\n",
       "      <td>13</td>\n",
       "      <td>40.0</td>\n",
       "      <td>2018.0</td>\n",
       "      <td>16</td>\n",
       "      <td>3</td>\n",
       "      <td>0</td>\n",
       "      <td>1</td>\n",
       "      <td>2360</td>\n",
       "    </tr>\n",
       "    <tr>\n",
       "      <th>1</th>\n",
       "      <td>3</td>\n",
       "      <td>-1.0</td>\n",
       "      <td>44872</td>\n",
       "      <td>8.0</td>\n",
       "      <td>-1.0</td>\n",
       "      <td>3</td>\n",
       "      <td>7</td>\n",
       "      <td>4</td>\n",
       "      <td>1982</td>\n",
       "      <td>1993</td>\n",
       "      <td>2</td>\n",
       "      <td>2</td>\n",
       "      <td>44289</td>\n",
       "      <td>217.0</td>\n",
       "      <td>-1.0</td>\n",
       "      <td>0</td>\n",
       "      <td>1354</td>\n",
       "      <td>0</td>\n",
       "      <td>2350.0</td>\n",
       "      <td>44895</td>\n",
       "      <td>1555.0</td>\n",
       "      <td>4</td>\n",
       "      <td>2</td>\n",
       "      <td>13</td>\n",
       "      <td>108.0</td>\n",
       "      <td>1993.0</td>\n",
       "      <td>34</td>\n",
       "      <td>3</td>\n",
       "      <td>0</td>\n",
       "      <td>1</td>\n",
       "      <td>3060</td>\n",
       "    </tr>\n",
       "    <tr>\n",
       "      <th>2</th>\n",
       "      <td>3</td>\n",
       "      <td>-1.0</td>\n",
       "      <td>55927</td>\n",
       "      <td>16.0</td>\n",
       "      <td>4.2</td>\n",
       "      <td>0</td>\n",
       "      <td>4</td>\n",
       "      <td>5</td>\n",
       "      <td>2014</td>\n",
       "      <td>2018</td>\n",
       "      <td>0</td>\n",
       "      <td>1</td>\n",
       "      <td>55481</td>\n",
       "      <td>193.0</td>\n",
       "      <td>-1.0</td>\n",
       "      <td>0</td>\n",
       "      <td>2</td>\n",
       "      <td>0</td>\n",
       "      <td>1350.0</td>\n",
       "      <td>55963</td>\n",
       "      <td>1534.0</td>\n",
       "      <td>4</td>\n",
       "      <td>2</td>\n",
       "      <td>13</td>\n",
       "      <td>55.0</td>\n",
       "      <td>2019.0</td>\n",
       "      <td>35</td>\n",
       "      <td>3</td>\n",
       "      <td>0</td>\n",
       "      <td>1</td>\n",
       "      <td>2648</td>\n",
       "    </tr>\n",
       "    <tr>\n",
       "      <th>3</th>\n",
       "      <td>0</td>\n",
       "      <td>-1.0</td>\n",
       "      <td>41405</td>\n",
       "      <td>10.3</td>\n",
       "      <td>-1.0</td>\n",
       "      <td>0</td>\n",
       "      <td>4</td>\n",
       "      <td>4</td>\n",
       "      <td>2000</td>\n",
       "      <td>2003</td>\n",
       "      <td>2</td>\n",
       "      <td>1</td>\n",
       "      <td>40914</td>\n",
       "      <td>189.0</td>\n",
       "      <td>-1.0</td>\n",
       "      <td>1</td>\n",
       "      <td>0</td>\n",
       "      <td>1</td>\n",
       "      <td>1090.0</td>\n",
       "      <td>41425</td>\n",
       "      <td>1495.0</td>\n",
       "      <td>4</td>\n",
       "      <td>2</td>\n",
       "      <td>13</td>\n",
       "      <td>55.0</td>\n",
       "      <td>2003.0</td>\n",
       "      <td>10</td>\n",
       "      <td>3</td>\n",
       "      <td>0</td>\n",
       "      <td>1</td>\n",
       "      <td>2513</td>\n",
       "    </tr>\n",
       "    <tr>\n",
       "      <th>4</th>\n",
       "      <td>8</td>\n",
       "      <td>-1.0</td>\n",
       "      <td>22523</td>\n",
       "      <td>19.0</td>\n",
       "      <td>-1.0</td>\n",
       "      <td>0</td>\n",
       "      <td>4</td>\n",
       "      <td>8</td>\n",
       "      <td>2000</td>\n",
       "      <td>2005</td>\n",
       "      <td>0</td>\n",
       "      <td>1</td>\n",
       "      <td>22118</td>\n",
       "      <td>185.0</td>\n",
       "      <td>-1.0</td>\n",
       "      <td>3</td>\n",
       "      <td>0</td>\n",
       "      <td>1</td>\n",
       "      <td>1410.0</td>\n",
       "      <td>22491</td>\n",
       "      <td>1515.0</td>\n",
       "      <td>4</td>\n",
       "      <td>1</td>\n",
       "      <td>13</td>\n",
       "      <td>62.0</td>\n",
       "      <td>2005.0</td>\n",
       "      <td>10</td>\n",
       "      <td>3</td>\n",
       "      <td>0</td>\n",
       "      <td>1</td>\n",
       "      <td>2703</td>\n",
       "    </tr>\n",
       "  </tbody>\n",
       "</table>\n",
       "</div>"
      ],
      "text/plain": [
       "   back-suspension  battery-capacity  charge-time  compression  \\\n",
       "0                9              -1.0        36457          9.0   \n",
       "1                3              -1.0        44872          8.0   \n",
       "2                3              -1.0        55927         16.0   \n",
       "3                0              -1.0        41405         10.3   \n",
       "4                8              -1.0        22523         19.0   \n",
       "\n",
       "   consumption-mixed  cylinders-order  cylinders-value  engine-feeding  \\\n",
       "0                4.3                0                3               4   \n",
       "1               -1.0                3                7               4   \n",
       "2                4.2                0                4               5   \n",
       "3               -1.0                0                4               4   \n",
       "4               -1.0                0                4               8   \n",
       "\n",
       "   engine-start  engine-stop  engine-type  gear-type  luxury  max-speed  \\\n",
       "0          2006         2018            2          1   36646       -1.0   \n",
       "1          1982         1993            2          2   44289      217.0   \n",
       "2          2014         2018            0          1   55481      193.0   \n",
       "3          2000         2003            2          1   40914      189.0   \n",
       "4          2000         2005            0          1   22118      185.0   \n",
       "\n",
       "   power-electro-kw  supply-system  valves  valvetrain  weight  \\\n",
       "0              -1.0              0       2           0   820.0   \n",
       "1              -1.0              0    1354           0  2350.0   \n",
       "2              -1.0              0       2           0  1350.0   \n",
       "3              -1.0              1       0           1  1090.0   \n",
       "4              -1.0              3       0           1  1410.0   \n",
       "\n",
       "   configurations_auto-premiere  configurations_back-wheel-base  \\\n",
       "0                         36479                          1300.0   \n",
       "1                         44895                          1555.0   \n",
       "2                         55963                          1534.0   \n",
       "3                         41425                          1495.0   \n",
       "4                         22491                          1515.0   \n",
       "\n",
       "   configurations_front-brake  configurations_safety-rating  \\\n",
       "0                           1                             2   \n",
       "1                           4                             2   \n",
       "2                           4                             2   \n",
       "3                           4                             2   \n",
       "4                           4                             1   \n",
       "\n",
       "   configurations_seats  configurations_tank-volume  supergen_year-stop  \\\n",
       "0                    13                        40.0              2018.0   \n",
       "1                    13                       108.0              1993.0   \n",
       "2                    13                        55.0              2019.0   \n",
       "3                    13                        55.0              2003.0   \n",
       "4                    13                        62.0              2005.0   \n",
       "\n",
       "   models_country-from  models_group  models_light-and-commercial  \\\n",
       "0                   16             3                            0   \n",
       "1                   34             3                            0   \n",
       "2                   35             3                            0   \n",
       "3                   10             3                            0   \n",
       "4                   10             3                            0   \n",
       "\n",
       "   models_male  target  \n",
       "0            1    2360  \n",
       "1            1    3060  \n",
       "2            1    2648  \n",
       "3            1    2513  \n",
       "4            1    2703  "
      ]
     },
     "execution_count": 14,
     "metadata": {},
     "output_type": "execute_result"
    }
   ],
   "source": [
    "df = df.drop('index', axis = 1)\n",
    "df.head()"
   ]
  },
  {
   "cell_type": "markdown",
   "id": "fdbe8986-3152-4eee-bc60-a83551afee1e",
   "metadata": {
    "id": "fdbe8986-3152-4eee-bc60-a83551afee1e"
   },
   "source": [
    "Данные: технические характеристики разных конфигураций автомобилей\n",
    "\n",
    "Таргет: длина колесной базы конфигурации (в миллиметрах).\n",
    "\n",
    "Задача: добиться наименьшего MSE на test."
   ]
  },
  {
   "cell_type": "code",
   "execution_count": 15,
   "id": "7c20bcca",
   "metadata": {},
   "outputs": [
    {
     "name": "stdout",
     "output_type": "stream",
     "text": [
      "(32433, 30) (10812, 30)\n"
     ]
    }
   ],
   "source": [
    "RANDOM_STATE = 42\n",
    "TEST_SIZE = 0.25\n",
    "X_train, X_test, y_train, y_test = train_test_split(\n",
    "    df.drop(['target'], axis= 1),\n",
    "    df['target'],\n",
    "    test_size = TEST_SIZE,\n",
    "    random_state = RANDOM_STATE\n",
    ")\n",
    "\n",
    "print(X_train.shape, X_test.shape)"
   ]
  },
  {
   "cell_type": "code",
   "execution_count": 16,
   "id": "477bb285",
   "metadata": {},
   "outputs": [
    {
     "name": "stdout",
     "output_type": "stream",
     "text": [
      "CPU times: total: 0 ns\n",
      "Wall time: 0 ns\n"
     ]
    }
   ],
   "source": [
    "%time\n",
    "num_columns = df.drop('target', axis = 1).columns\n",
    "data_preprocessor = ColumnTransformer(\n",
    "    [\n",
    "     ('num', StandardScaler(), num_columns)    \n",
    "    ],\n",
    "    remainder='passthrough'\n",
    ")\n",
    "\n",
    "pipe_final = Pipeline(\n",
    "    [('preprocessor', data_preprocessor),\n",
    "     ('models', LinearRegression())  \n",
    "    ]\n",
    ")\n",
    "\n",
    "param_grid = [\n",
    "    {\n",
    "        'models': [LinearRegression()],\n",
    "        'models__fit_intercept': [True, False], \n",
    "        'models__positive': [True, False],  \n",
    "        'preprocessor__num': [StandardScaler(), MinMaxScaler(), RobustScaler(), 'passthrough']\n",
    "    },\n",
    "    {\n",
    "        'models': [Ridge()],\n",
    "        'models__alpha': [0.1, 1.0, 10],  \n",
    "        'models__fit_intercept': [True, False],\n",
    "        'preprocessor__num': [StandardScaler(), MinMaxScaler(), RobustScaler(), 'passthrough']\n",
    "    },\n",
    "    {\n",
    "        'models': [Lasso()],\n",
    "        'models__alpha': [0.1, 1.0, 10],  \n",
    "        'models__fit_intercept': [True, False],\n",
    "        'preprocessor__num': [StandardScaler(), MinMaxScaler(), RobustScaler(), 'passthrough']\n",
    "    }\n",
    "]\n",
    "grid_search = GridSearchCV(\n",
    "    pipe_final,\n",
    "    param_grid,\n",
    "    cv = 5,\n",
    "    scoring= 'neg_mean_squared_error',\n",
    "    n_jobs = -1,\n",
    ")\n",
    "\n",
    "grid_search.fit(X_train,y_train);"
   ]
  },
  {
   "cell_type": "code",
   "execution_count": 17,
   "id": "fbd4c090",
   "metadata": {},
   "outputs": [
    {
     "data": {
      "text/html": [
       "<div>\n",
       "<style scoped>\n",
       "    .dataframe tbody tr th:only-of-type {\n",
       "        vertical-align: middle;\n",
       "    }\n",
       "\n",
       "    .dataframe tbody tr th {\n",
       "        vertical-align: top;\n",
       "    }\n",
       "\n",
       "    .dataframe thead th {\n",
       "        text-align: right;\n",
       "    }\n",
       "</style>\n",
       "<table border=\"1\" class=\"dataframe\">\n",
       "  <thead>\n",
       "    <tr style=\"text-align: right;\">\n",
       "      <th></th>\n",
       "      <th>param_models</th>\n",
       "      <th>param_models__fit_intercept</th>\n",
       "      <th>param_models__positive</th>\n",
       "      <th>param_preprocessor__num</th>\n",
       "      <th>param_models__alpha</th>\n",
       "      <th>mean_test_score</th>\n",
       "      <th>std_test_score</th>\n",
       "      <th>rank_test_score</th>\n",
       "    </tr>\n",
       "  </thead>\n",
       "  <tbody>\n",
       "    <tr>\n",
       "      <th>32</th>\n",
       "      <td>Ridge(alpha=10)</td>\n",
       "      <td>True</td>\n",
       "      <td>NaN</td>\n",
       "      <td>StandardScaler()</td>\n",
       "      <td>10</td>\n",
       "      <td>-3.000951e+04</td>\n",
       "      <td>786.552101</td>\n",
       "      <td>1</td>\n",
       "    </tr>\n",
       "    <tr>\n",
       "      <th>26</th>\n",
       "      <td>Ridge(alpha=10)</td>\n",
       "      <td>True</td>\n",
       "      <td>NaN</td>\n",
       "      <td>RobustScaler()</td>\n",
       "      <td>1.0</td>\n",
       "      <td>-3.000967e+04</td>\n",
       "      <td>785.921326</td>\n",
       "      <td>2</td>\n",
       "    </tr>\n",
       "    <tr>\n",
       "      <th>27</th>\n",
       "      <td>Ridge(alpha=10)</td>\n",
       "      <td>True</td>\n",
       "      <td>NaN</td>\n",
       "      <td>passthrough</td>\n",
       "      <td>1.0</td>\n",
       "      <td>-3.000976e+04</td>\n",
       "      <td>786.007220</td>\n",
       "      <td>3</td>\n",
       "    </tr>\n",
       "    <tr>\n",
       "      <th>24</th>\n",
       "      <td>Ridge(alpha=10)</td>\n",
       "      <td>True</td>\n",
       "      <td>NaN</td>\n",
       "      <td>StandardScaler()</td>\n",
       "      <td>1.0</td>\n",
       "      <td>-3.000981e+04</td>\n",
       "      <td>786.805293</td>\n",
       "      <td>4</td>\n",
       "    </tr>\n",
       "    <tr>\n",
       "      <th>18</th>\n",
       "      <td>Ridge(alpha=10)</td>\n",
       "      <td>True</td>\n",
       "      <td>NaN</td>\n",
       "      <td>RobustScaler()</td>\n",
       "      <td>0.1</td>\n",
       "      <td>-3.000983e+04</td>\n",
       "      <td>786.740999</td>\n",
       "      <td>5</td>\n",
       "    </tr>\n",
       "    <tr>\n",
       "      <th>...</th>\n",
       "      <td>...</td>\n",
       "      <td>...</td>\n",
       "      <td>...</td>\n",
       "      <td>...</td>\n",
       "      <td>...</td>\n",
       "      <td>...</td>\n",
       "      <td>...</td>\n",
       "      <td>...</td>\n",
       "    </tr>\n",
       "    <tr>\n",
       "      <th>28</th>\n",
       "      <td>Ridge(alpha=10)</td>\n",
       "      <td>False</td>\n",
       "      <td>NaN</td>\n",
       "      <td>StandardScaler()</td>\n",
       "      <td>1.0</td>\n",
       "      <td>-7.106564e+06</td>\n",
       "      <td>6625.904365</td>\n",
       "      <td>60</td>\n",
       "    </tr>\n",
       "    <tr>\n",
       "      <th>20</th>\n",
       "      <td>Ridge(alpha=10)</td>\n",
       "      <td>False</td>\n",
       "      <td>NaN</td>\n",
       "      <td>StandardScaler()</td>\n",
       "      <td>0.1</td>\n",
       "      <td>-7.106564e+06</td>\n",
       "      <td>6625.785398</td>\n",
       "      <td>61</td>\n",
       "    </tr>\n",
       "    <tr>\n",
       "      <th>12</th>\n",
       "      <td>LinearRegression()</td>\n",
       "      <td>False</td>\n",
       "      <td>False</td>\n",
       "      <td>StandardScaler()</td>\n",
       "      <td>NaN</td>\n",
       "      <td>-7.106564e+06</td>\n",
       "      <td>6625.772012</td>\n",
       "      <td>62</td>\n",
       "    </tr>\n",
       "    <tr>\n",
       "      <th>60</th>\n",
       "      <td>Lasso()</td>\n",
       "      <td>False</td>\n",
       "      <td>NaN</td>\n",
       "      <td>StandardScaler()</td>\n",
       "      <td>10</td>\n",
       "      <td>-7.108285e+06</td>\n",
       "      <td>7533.851813</td>\n",
       "      <td>63</td>\n",
       "    </tr>\n",
       "    <tr>\n",
       "      <th>8</th>\n",
       "      <td>LinearRegression()</td>\n",
       "      <td>False</td>\n",
       "      <td>True</td>\n",
       "      <td>StandardScaler()</td>\n",
       "      <td>NaN</td>\n",
       "      <td>-7.108460e+06</td>\n",
       "      <td>6988.129227</td>\n",
       "      <td>64</td>\n",
       "    </tr>\n",
       "  </tbody>\n",
       "</table>\n",
       "<p>64 rows × 8 columns</p>\n",
       "</div>"
      ],
      "text/plain": [
       "          param_models param_models__fit_intercept param_models__positive  \\\n",
       "32     Ridge(alpha=10)                        True                    NaN   \n",
       "26     Ridge(alpha=10)                        True                    NaN   \n",
       "27     Ridge(alpha=10)                        True                    NaN   \n",
       "24     Ridge(alpha=10)                        True                    NaN   \n",
       "18     Ridge(alpha=10)                        True                    NaN   \n",
       "..                 ...                         ...                    ...   \n",
       "28     Ridge(alpha=10)                       False                    NaN   \n",
       "20     Ridge(alpha=10)                       False                    NaN   \n",
       "12  LinearRegression()                       False                  False   \n",
       "60             Lasso()                       False                    NaN   \n",
       "8   LinearRegression()                       False                   True   \n",
       "\n",
       "   param_preprocessor__num param_models__alpha  mean_test_score  \\\n",
       "32        StandardScaler()                  10    -3.000951e+04   \n",
       "26          RobustScaler()                 1.0    -3.000967e+04   \n",
       "27             passthrough                 1.0    -3.000976e+04   \n",
       "24        StandardScaler()                 1.0    -3.000981e+04   \n",
       "18          RobustScaler()                 0.1    -3.000983e+04   \n",
       "..                     ...                 ...              ...   \n",
       "28        StandardScaler()                 1.0    -7.106564e+06   \n",
       "20        StandardScaler()                 0.1    -7.106564e+06   \n",
       "12        StandardScaler()                 NaN    -7.106564e+06   \n",
       "60        StandardScaler()                  10    -7.108285e+06   \n",
       "8         StandardScaler()                 NaN    -7.108460e+06   \n",
       "\n",
       "    std_test_score  rank_test_score  \n",
       "32      786.552101                1  \n",
       "26      785.921326                2  \n",
       "27      786.007220                3  \n",
       "24      786.805293                4  \n",
       "18      786.740999                5  \n",
       "..             ...              ...  \n",
       "28     6625.904365               60  \n",
       "20     6625.785398               61  \n",
       "12     6625.772012               62  \n",
       "60     7533.851813               63  \n",
       "8      6988.129227               64  \n",
       "\n",
       "[64 rows x 8 columns]"
      ]
     },
     "execution_count": 17,
     "metadata": {},
     "output_type": "execute_result"
    }
   ],
   "source": [
    "pd.DataFrame(grid_search.cv_results_).sort_values(by = 'rank_test_score')[['param_models', 'param_models__fit_intercept',\n",
    "                                                                          'param_models__positive','param_preprocessor__num',\n",
    "                                                                          'param_models__alpha', 'mean_test_score', 'std_test_score',\n",
    "                                                                          'rank_test_score']]"
   ]
  },
  {
   "cell_type": "code",
   "execution_count": 18,
   "id": "dc95d543",
   "metadata": {},
   "outputs": [
    {
     "name": "stdout",
     "output_type": "stream",
     "text": [
      "Лучшая модель и её параметры:\n",
      "\n",
      " {'models': Ridge(alpha=10), 'models__alpha': 10, 'models__fit_intercept': True, 'preprocessor__num': StandardScaler()}\n",
      "Метрика MSE лучшей модели на кроссвалидации: -30009.50712026548\n"
     ]
    }
   ],
   "source": [
    "print('Better model analysis:\\n', grid_search.best_params_)\n",
    "print ('MSE of better model(crossvalidation)', grid_search.best_score_)"
   ]
  },
  {
   "cell_type": "markdown",
   "id": "f3a2b427",
   "metadata": {},
   "source": [
    "Тестируем лучшую модель"
   ]
  },
  {
   "cell_type": "code",
   "execution_count": 19,
   "id": "3c89d90d",
   "metadata": {},
   "outputs": [
    {
     "name": "stdout",
     "output_type": "stream",
     "text": [
      "коэф детерминации: 0.4638659164383786\n",
      "MSE на тесте 31102.32147414488\n",
      "отноение rmse к среднему таргерту =  0.06627960129923668\n"
     ]
    }
   ],
   "source": [
    "y_pred = (grid_search.predict(X_test))\n",
    "\n",
    "mse = mean_squared_error(y_test, y_pred)\n",
    "r2 = r2_score(y_test, y_pred)\n",
    "print(\"коэф детерминации:\", r2)\n",
    "print('MSE на тесте', mse)\n",
    "print('отноение rmse к среднему таргерту = ', np.sqrt(mse)/df['target'].mean())"
   ]
  },
  {
   "cell_type": "markdown",
   "id": "7094bc83",
   "metadata": {},
   "source": [
    "Отношение корня из средней квадратичной ошибки к среднему таргету очень нелпохое 0.06. Можно сказать что средняя ошибка модели составляет 6% от среднего значения целевой переменной, это неплохая точность. Однако кожффициент детерминации плохой, 0.46. Возможно дело в большой дисперсии"
   ]
  },
  {
   "cell_type": "code",
   "execution_count": 20,
   "id": "609dbcb0",
   "metadata": {},
   "outputs": [
    {
     "data": {
      "text/plain": [
       "0.08881285780010834"
      ]
     },
     "execution_count": 20,
     "metadata": {},
     "output_type": "execute_result"
    }
   ],
   "source": [
    "df['target'].std()/df['target'].mean()"
   ]
  },
  {
   "cell_type": "markdown",
   "id": "94077106",
   "metadata": {},
   "source": [
    "дисперсия небольшая. тогда что такое"
   ]
  },
  {
   "cell_type": "code",
   "execution_count": 21,
   "id": "46a1c80c",
   "metadata": {},
   "outputs": [
    {
     "name": "stdout",
     "output_type": "stream",
     "text": [
      "0.49887167936595705\n"
     ]
    }
   ],
   "source": [
    "print((y_test - y_pred).mean()) \n"
   ]
  },
  {
   "cell_type": "markdown",
   "id": "71517f5f",
   "metadata": {},
   "source": [
    "В целом оценка почти не смещенная"
   ]
  },
  {
   "cell_type": "code",
   "execution_count": 22,
   "id": "118c3dd6",
   "metadata": {},
   "outputs": [
    {
     "name": "stdout",
     "output_type": "stream",
     "text": [
      "count    10812.000000\n",
      "mean         0.498872\n",
      "std        176.365953\n",
      "min      -1176.129961\n",
      "25%        -91.149188\n",
      "50%        -10.065210\n",
      "75%         79.082443\n",
      "max       1949.013014\n",
      "Name: target, dtype: float64\n"
     ]
    },
    {
     "data": {
      "image/png": "[encoded data removed]",
      "text/plain": [
       "<Figure size 800x600 with 1 Axes>"
      ]
     },
     "metadata": {},
     "output_type": "display_data"
    }
   ],
   "source": [
    "import matplotlib.pyplot as plt\n",
    "import seaborn as sns\n",
    "\n",
    "residuals = y_test - y_pred\n",
    "\n",
    "plt.figure(figsize=(8, 6))\n",
    "sns.histplot(residuals, kde=True, bins=30) \n",
    "plt.xlabel(\"Остатки (y_test - y_pred)\")\n",
    "plt.ylabel(\"Частота\")\n",
    "plt.title(\"Распределение остатков\")\n",
    "print(residuals.describe())\n",
    "plt.show()"
   ]
  },
  {
   "cell_type": "markdown",
   "id": "aee89a9d",
   "metadata": {},
   "source": [
    "график остатков напоминает нормальное распределение, но с длинными хвостами- выбросами. На графике остатков есть выбросы, двовольно большие, а при возведении в квадрат для подсчета коэффициента детерминации они станут огромными, по этой причине и коэффициент детерминации такой плохой. Сама же модель неплоха, отношение rmse к среднему таргету = 0.06. Модель в среднем ошибается на 6% - нормально"
   ]
  },
  {
   "cell_type": "markdown",
   "id": "b350afde",
   "metadata": {},
   "source": [
    "Получается модель плохо справилась с выбросами, а так она нормальная. Чтобы ситуация стала лучше, можно попробовать другие более сложные модели"
   ]
  },
  {
   "cell_type": "markdown",
   "id": "bc8d20f3-a6db-4e6c-be0c-d92bfbd393af",
   "metadata": {
    "id": "bc8d20f3-a6db-4e6c-be0c-d92bfbd393af"
   },
   "source": [
    "## Baseline"
   ]
  },
  {
   "cell_type": "code",
   "execution_count": 23,
   "id": "22039f8f-d6d8-4998-8ec1-3b83facf013f",
   "metadata": {
    "id": "22039f8f-d6d8-4998-8ec1-3b83facf013f"
   },
   "outputs": [],
   "source": [
    "from sklearn.model_selection import train_test_split\n",
    "from sklearn.linear_model import LinearRegression\n",
    "from sklearn.metrics import mean_squared_error"
   ]
  },
  {
   "cell_type": "code",
   "execution_count": 24,
   "id": "261c2445-1dd7-465c-8d43-54556629ff7c",
   "metadata": {
    "id": "261c2445-1dd7-465c-8d43-54556629ff7c"
   },
   "outputs": [],
   "source": [
    "X = df.drop([\"target\"], axis=1)\n",
    "y = df[[\"target\"]]\n",
    "train_X, test_X, train_y, test_y = train_test_split(X, y, test_size=0.33, random_state=42)"
   ]
  },
  {
   "cell_type": "code",
   "execution_count": 25,
   "id": "ff464bd4-90a5-4e19-ab76-b9edc87d7424",
   "metadata": {
    "colab": {
     "base_uri": "https://localhost:8080/",
     "height": 478
    },
    "id": "ff464bd4-90a5-4e19-ab76-b9edc87d7424",
    "outputId": "f886a4a6-a4ee-4d5f-974f-a632cbc81338"
   },
   "outputs": [
    {
     "data": {
      "text/html": [
       "<div>\n",
       "<style scoped>\n",
       "    .dataframe tbody tr th:only-of-type {\n",
       "        vertical-align: middle;\n",
       "    }\n",
       "\n",
       "    .dataframe tbody tr th {\n",
       "        vertical-align: top;\n",
       "    }\n",
       "\n",
       "    .dataframe thead th {\n",
       "        text-align: right;\n",
       "    }\n",
       "</style>\n",
       "<table border=\"1\" class=\"dataframe\">\n",
       "  <thead>\n",
       "    <tr style=\"text-align: right;\">\n",
       "      <th></th>\n",
       "      <th>back-suspension</th>\n",
       "      <th>battery-capacity</th>\n",
       "      <th>charge-time</th>\n",
       "      <th>compression</th>\n",
       "      <th>consumption-mixed</th>\n",
       "      <th>cylinders-order</th>\n",
       "      <th>cylinders-value</th>\n",
       "      <th>engine-feeding</th>\n",
       "      <th>engine-start</th>\n",
       "      <th>engine-stop</th>\n",
       "      <th>engine-type</th>\n",
       "      <th>gear-type</th>\n",
       "      <th>luxury</th>\n",
       "      <th>max-speed</th>\n",
       "      <th>power-electro-kw</th>\n",
       "      <th>supply-system</th>\n",
       "      <th>valves</th>\n",
       "      <th>valvetrain</th>\n",
       "      <th>weight</th>\n",
       "      <th>configurations_auto-premiere</th>\n",
       "      <th>configurations_back-wheel-base</th>\n",
       "      <th>configurations_front-brake</th>\n",
       "      <th>configurations_safety-rating</th>\n",
       "      <th>configurations_seats</th>\n",
       "      <th>configurations_tank-volume</th>\n",
       "      <th>supergen_year-stop</th>\n",
       "      <th>models_country-from</th>\n",
       "      <th>models_group</th>\n",
       "      <th>models_light-and-commercial</th>\n",
       "      <th>models_male</th>\n",
       "    </tr>\n",
       "  </thead>\n",
       "  <tbody>\n",
       "    <tr>\n",
       "      <th>22607</th>\n",
       "      <td>3</td>\n",
       "      <td>-1.0</td>\n",
       "      <td>11636</td>\n",
       "      <td>9.5</td>\n",
       "      <td>-1.0</td>\n",
       "      <td>0</td>\n",
       "      <td>4</td>\n",
       "      <td>4</td>\n",
       "      <td>1997</td>\n",
       "      <td>2000</td>\n",
       "      <td>2</td>\n",
       "      <td>0</td>\n",
       "      <td>11923</td>\n",
       "      <td>160.0</td>\n",
       "      <td>-1.0</td>\n",
       "      <td>0</td>\n",
       "      <td>2</td>\n",
       "      <td>0</td>\n",
       "      <td>1290.0</td>\n",
       "      <td>11642</td>\n",
       "      <td>1415.0</td>\n",
       "      <td>4</td>\n",
       "      <td>2</td>\n",
       "      <td>13</td>\n",
       "      <td>50.0</td>\n",
       "      <td>2000.0</td>\n",
       "      <td>16</td>\n",
       "      <td>3</td>\n",
       "      <td>0</td>\n",
       "      <td>1</td>\n",
       "    </tr>\n",
       "    <tr>\n",
       "      <th>36531</th>\n",
       "      <td>8</td>\n",
       "      <td>-1.0</td>\n",
       "      <td>31764</td>\n",
       "      <td>9.0</td>\n",
       "      <td>-1.0</td>\n",
       "      <td>0</td>\n",
       "      <td>4</td>\n",
       "      <td>0</td>\n",
       "      <td>1990</td>\n",
       "      <td>1993</td>\n",
       "      <td>2</td>\n",
       "      <td>1</td>\n",
       "      <td>31915</td>\n",
       "      <td>145.0</td>\n",
       "      <td>-1.0</td>\n",
       "      <td>0</td>\n",
       "      <td>0</td>\n",
       "      <td>4</td>\n",
       "      <td>935.0</td>\n",
       "      <td>31785</td>\n",
       "      <td>1310.0</td>\n",
       "      <td>1</td>\n",
       "      <td>2</td>\n",
       "      <td>13</td>\n",
       "      <td>48.0</td>\n",
       "      <td>1996.0</td>\n",
       "      <td>23</td>\n",
       "      <td>3</td>\n",
       "      <td>0</td>\n",
       "      <td>0</td>\n",
       "    </tr>\n",
       "    <tr>\n",
       "      <th>24048</th>\n",
       "      <td>8</td>\n",
       "      <td>-1.0</td>\n",
       "      <td>2773</td>\n",
       "      <td>8.8</td>\n",
       "      <td>6.8</td>\n",
       "      <td>0</td>\n",
       "      <td>4</td>\n",
       "      <td>4</td>\n",
       "      <td>2009</td>\n",
       "      <td>2012</td>\n",
       "      <td>2</td>\n",
       "      <td>1</td>\n",
       "      <td>2258</td>\n",
       "      <td>221.0</td>\n",
       "      <td>-1.0</td>\n",
       "      <td>3</td>\n",
       "      <td>2</td>\n",
       "      <td>4</td>\n",
       "      <td>1373.0</td>\n",
       "      <td>2763</td>\n",
       "      <td>1558.0</td>\n",
       "      <td>4</td>\n",
       "      <td>1</td>\n",
       "      <td>13</td>\n",
       "      <td>56.0</td>\n",
       "      <td>2012.0</td>\n",
       "      <td>10</td>\n",
       "      <td>3</td>\n",
       "      <td>0</td>\n",
       "      <td>1</td>\n",
       "    </tr>\n",
       "    <tr>\n",
       "      <th>34819</th>\n",
       "      <td>3</td>\n",
       "      <td>-1.0</td>\n",
       "      <td>52039</td>\n",
       "      <td>14.0</td>\n",
       "      <td>5.3</td>\n",
       "      <td>0</td>\n",
       "      <td>4</td>\n",
       "      <td>5</td>\n",
       "      <td>2015</td>\n",
       "      <td>2017</td>\n",
       "      <td>0</td>\n",
       "      <td>1</td>\n",
       "      <td>51108</td>\n",
       "      <td>198.0</td>\n",
       "      <td>-1.0</td>\n",
       "      <td>0</td>\n",
       "      <td>2</td>\n",
       "      <td>4</td>\n",
       "      <td>1430.0</td>\n",
       "      <td>52081</td>\n",
       "      <td>1590.0</td>\n",
       "      <td>4</td>\n",
       "      <td>2</td>\n",
       "      <td>13</td>\n",
       "      <td>56.0</td>\n",
       "      <td>2017.0</td>\n",
       "      <td>16</td>\n",
       "      <td>3</td>\n",
       "      <td>0</td>\n",
       "      <td>0</td>\n",
       "    </tr>\n",
       "    <tr>\n",
       "      <th>1328</th>\n",
       "      <td>3</td>\n",
       "      <td>-1.0</td>\n",
       "      <td>20689</td>\n",
       "      <td>18.0</td>\n",
       "      <td>7.5</td>\n",
       "      <td>0</td>\n",
       "      <td>5</td>\n",
       "      <td>5</td>\n",
       "      <td>2004</td>\n",
       "      <td>2005</td>\n",
       "      <td>0</td>\n",
       "      <td>1</td>\n",
       "      <td>20228</td>\n",
       "      <td>195.0</td>\n",
       "      <td>-1.0</td>\n",
       "      <td>0</td>\n",
       "      <td>2</td>\n",
       "      <td>0</td>\n",
       "      <td>1485.0</td>\n",
       "      <td>20685</td>\n",
       "      <td>1560.0</td>\n",
       "      <td>4</td>\n",
       "      <td>2</td>\n",
       "      <td>13</td>\n",
       "      <td>70.0</td>\n",
       "      <td>2009.0</td>\n",
       "      <td>28</td>\n",
       "      <td>3</td>\n",
       "      <td>0</td>\n",
       "      <td>1</td>\n",
       "    </tr>\n",
       "    <tr>\n",
       "      <th>...</th>\n",
       "      <td>...</td>\n",
       "      <td>...</td>\n",
       "      <td>...</td>\n",
       "      <td>...</td>\n",
       "      <td>...</td>\n",
       "      <td>...</td>\n",
       "      <td>...</td>\n",
       "      <td>...</td>\n",
       "      <td>...</td>\n",
       "      <td>...</td>\n",
       "      <td>...</td>\n",
       "      <td>...</td>\n",
       "      <td>...</td>\n",
       "      <td>...</td>\n",
       "      <td>...</td>\n",
       "      <td>...</td>\n",
       "      <td>...</td>\n",
       "      <td>...</td>\n",
       "      <td>...</td>\n",
       "      <td>...</td>\n",
       "      <td>...</td>\n",
       "      <td>...</td>\n",
       "      <td>...</td>\n",
       "      <td>...</td>\n",
       "      <td>...</td>\n",
       "      <td>...</td>\n",
       "      <td>...</td>\n",
       "      <td>...</td>\n",
       "      <td>...</td>\n",
       "      <td>...</td>\n",
       "    </tr>\n",
       "    <tr>\n",
       "      <th>6265</th>\n",
       "      <td>6</td>\n",
       "      <td>-1.0</td>\n",
       "      <td>42729</td>\n",
       "      <td>16.5</td>\n",
       "      <td>4.7</td>\n",
       "      <td>0</td>\n",
       "      <td>4</td>\n",
       "      <td>5</td>\n",
       "      <td>2017</td>\n",
       "      <td>0</td>\n",
       "      <td>0</td>\n",
       "      <td>2</td>\n",
       "      <td>44681</td>\n",
       "      <td>230.0</td>\n",
       "      <td>-1.0</td>\n",
       "      <td>0</td>\n",
       "      <td>2</td>\n",
       "      <td>4</td>\n",
       "      <td>1655.0</td>\n",
       "      <td>42742</td>\n",
       "      <td>1630.0</td>\n",
       "      <td>4</td>\n",
       "      <td>2</td>\n",
       "      <td>13</td>\n",
       "      <td>68.0</td>\n",
       "      <td>-1.0</td>\n",
       "      <td>10</td>\n",
       "      <td>3</td>\n",
       "      <td>0</td>\n",
       "      <td>1</td>\n",
       "    </tr>\n",
       "    <tr>\n",
       "      <th>11284</th>\n",
       "      <td>0</td>\n",
       "      <td>-1.0</td>\n",
       "      <td>46093</td>\n",
       "      <td>8.1</td>\n",
       "      <td>-1.0</td>\n",
       "      <td>3</td>\n",
       "      <td>7</td>\n",
       "      <td>0</td>\n",
       "      <td>1987</td>\n",
       "      <td>1990</td>\n",
       "      <td>2</td>\n",
       "      <td>0</td>\n",
       "      <td>46106</td>\n",
       "      <td>-1.0</td>\n",
       "      <td>-1.0</td>\n",
       "      <td>0</td>\n",
       "      <td>0</td>\n",
       "      <td>4</td>\n",
       "      <td>-1.0</td>\n",
       "      <td>46131</td>\n",
       "      <td>1486.0</td>\n",
       "      <td>4</td>\n",
       "      <td>2</td>\n",
       "      <td>13</td>\n",
       "      <td>82.0</td>\n",
       "      <td>1996.0</td>\n",
       "      <td>34</td>\n",
       "      <td>3</td>\n",
       "      <td>0</td>\n",
       "      <td>1</td>\n",
       "    </tr>\n",
       "    <tr>\n",
       "      <th>38158</th>\n",
       "      <td>3</td>\n",
       "      <td>-1.0</td>\n",
       "      <td>48819</td>\n",
       "      <td>10.0</td>\n",
       "      <td>7.6</td>\n",
       "      <td>0</td>\n",
       "      <td>4</td>\n",
       "      <td>2</td>\n",
       "      <td>2018</td>\n",
       "      <td>0</td>\n",
       "      <td>2</td>\n",
       "      <td>0</td>\n",
       "      <td>48158</td>\n",
       "      <td>202.0</td>\n",
       "      <td>-1.0</td>\n",
       "      <td>0</td>\n",
       "      <td>2</td>\n",
       "      <td>0</td>\n",
       "      <td>1562.0</td>\n",
       "      <td>48858</td>\n",
       "      <td>1636.0</td>\n",
       "      <td>4</td>\n",
       "      <td>2</td>\n",
       "      <td>13</td>\n",
       "      <td>62.0</td>\n",
       "      <td>-1.0</td>\n",
       "      <td>26</td>\n",
       "      <td>3</td>\n",
       "      <td>0</td>\n",
       "      <td>1</td>\n",
       "    </tr>\n",
       "    <tr>\n",
       "      <th>860</th>\n",
       "      <td>10</td>\n",
       "      <td>-1.0</td>\n",
       "      <td>9346</td>\n",
       "      <td>22.4</td>\n",
       "      <td>-1.0</td>\n",
       "      <td>0</td>\n",
       "      <td>4</td>\n",
       "      <td>6</td>\n",
       "      <td>1992</td>\n",
       "      <td>1995</td>\n",
       "      <td>0</td>\n",
       "      <td>1</td>\n",
       "      <td>8757</td>\n",
       "      <td>-1.0</td>\n",
       "      <td>-1.0</td>\n",
       "      <td>0</td>\n",
       "      <td>0</td>\n",
       "      <td>3</td>\n",
       "      <td>-1.0</td>\n",
       "      <td>9412</td>\n",
       "      <td>1460.0</td>\n",
       "      <td>1</td>\n",
       "      <td>2</td>\n",
       "      <td>13</td>\n",
       "      <td>50.0</td>\n",
       "      <td>1995.0</td>\n",
       "      <td>16</td>\n",
       "      <td>3</td>\n",
       "      <td>0</td>\n",
       "      <td>1</td>\n",
       "    </tr>\n",
       "    <tr>\n",
       "      <th>15795</th>\n",
       "      <td>3</td>\n",
       "      <td>-1.0</td>\n",
       "      <td>43309</td>\n",
       "      <td>10.1</td>\n",
       "      <td>-1.0</td>\n",
       "      <td>3</td>\n",
       "      <td>7</td>\n",
       "      <td>4</td>\n",
       "      <td>2004</td>\n",
       "      <td>2007</td>\n",
       "      <td>2</td>\n",
       "      <td>2</td>\n",
       "      <td>42855</td>\n",
       "      <td>-1.0</td>\n",
       "      <td>-1.0</td>\n",
       "      <td>0</td>\n",
       "      <td>0</td>\n",
       "      <td>4</td>\n",
       "      <td>1745.0</td>\n",
       "      <td>43285</td>\n",
       "      <td>1559.0</td>\n",
       "      <td>4</td>\n",
       "      <td>2</td>\n",
       "      <td>8</td>\n",
       "      <td>66.0</td>\n",
       "      <td>2007.0</td>\n",
       "      <td>35</td>\n",
       "      <td>3</td>\n",
       "      <td>0</td>\n",
       "      <td>1</td>\n",
       "    </tr>\n",
       "  </tbody>\n",
       "</table>\n",
       "<p>28974 rows × 30 columns</p>\n",
       "</div>"
      ],
      "text/plain": [
       "       back-suspension  battery-capacity  charge-time  compression  \\\n",
       "22607                3              -1.0        11636          9.5   \n",
       "36531                8              -1.0        31764          9.0   \n",
       "24048                8              -1.0         2773          8.8   \n",
       "34819                3              -1.0        52039         14.0   \n",
       "1328                 3              -1.0        20689         18.0   \n",
       "...                ...               ...          ...          ...   \n",
       "6265                 6              -1.0        42729         16.5   \n",
       "11284                0              -1.0        46093          8.1   \n",
       "38158                3              -1.0        48819         10.0   \n",
       "860                 10              -1.0         9346         22.4   \n",
       "15795                3              -1.0        43309         10.1   \n",
       "\n",
       "       consumption-mixed  cylinders-order  cylinders-value  engine-feeding  \\\n",
       "22607               -1.0                0                4               4   \n",
       "36531               -1.0                0                4               0   \n",
       "24048                6.8                0                4               4   \n",
       "34819                5.3                0                4               5   \n",
       "1328                 7.5                0                5               5   \n",
       "...                  ...              ...              ...             ...   \n",
       "6265                 4.7                0                4               5   \n",
       "11284               -1.0                3                7               0   \n",
       "38158                7.6                0                4               2   \n",
       "860                 -1.0                0                4               6   \n",
       "15795               -1.0                3                7               4   \n",
       "\n",
       "       engine-start  engine-stop  engine-type  gear-type  luxury  max-speed  \\\n",
       "22607          1997         2000            2          0   11923      160.0   \n",
       "36531          1990         1993            2          1   31915      145.0   \n",
       "24048          2009         2012            2          1    2258      221.0   \n",
       "34819          2015         2017            0          1   51108      198.0   \n",
       "1328           2004         2005            0          1   20228      195.0   \n",
       "...             ...          ...          ...        ...     ...        ...   \n",
       "6265           2017            0            0          2   44681      230.0   \n",
       "11284          1987         1990            2          0   46106       -1.0   \n",
       "38158          2018            0            2          0   48158      202.0   \n",
       "860            1992         1995            0          1    8757       -1.0   \n",
       "15795          2004         2007            2          2   42855       -1.0   \n",
       "\n",
       "       power-electro-kw  supply-system  valves  valvetrain  weight  \\\n",
       "22607              -1.0              0       2           0  1290.0   \n",
       "36531              -1.0              0       0           4   935.0   \n",
       "24048              -1.0              3       2           4  1373.0   \n",
       "34819              -1.0              0       2           4  1430.0   \n",
       "1328               -1.0              0       2           0  1485.0   \n",
       "...                 ...            ...     ...         ...     ...   \n",
       "6265               -1.0              0       2           4  1655.0   \n",
       "11284              -1.0              0       0           4    -1.0   \n",
       "38158              -1.0              0       2           0  1562.0   \n",
       "860                -1.0              0       0           3    -1.0   \n",
       "15795              -1.0              0       0           4  1745.0   \n",
       "\n",
       "       configurations_auto-premiere  configurations_back-wheel-base  \\\n",
       "22607                         11642                          1415.0   \n",
       "36531                         31785                          1310.0   \n",
       "24048                          2763                          1558.0   \n",
       "34819                         52081                          1590.0   \n",
       "1328                          20685                          1560.0   \n",
       "...                             ...                             ...   \n",
       "6265                          42742                          1630.0   \n",
       "11284                         46131                          1486.0   \n",
       "38158                         48858                          1636.0   \n",
       "860                            9412                          1460.0   \n",
       "15795                         43285                          1559.0   \n",
       "\n",
       "       configurations_front-brake  configurations_safety-rating  \\\n",
       "22607                           4                             2   \n",
       "36531                           1                             2   \n",
       "24048                           4                             1   \n",
       "34819                           4                             2   \n",
       "1328                            4                             2   \n",
       "...                           ...                           ...   \n",
       "6265                            4                             2   \n",
       "11284                           4                             2   \n",
       "38158                           4                             2   \n",
       "860                             1                             2   \n",
       "15795                           4                             2   \n",
       "\n",
       "       configurations_seats  configurations_tank-volume  supergen_year-stop  \\\n",
       "22607                    13                        50.0              2000.0   \n",
       "36531                    13                        48.0              1996.0   \n",
       "24048                    13                        56.0              2012.0   \n",
       "34819                    13                        56.0              2017.0   \n",
       "1328                     13                        70.0              2009.0   \n",
       "...                     ...                         ...                 ...   \n",
       "6265                     13                        68.0                -1.0   \n",
       "11284                    13                        82.0              1996.0   \n",
       "38158                    13                        62.0                -1.0   \n",
       "860                      13                        50.0              1995.0   \n",
       "15795                     8                        66.0              2007.0   \n",
       "\n",
       "       models_country-from  models_group  models_light-and-commercial  \\\n",
       "22607                   16             3                            0   \n",
       "36531                   23             3                            0   \n",
       "24048                   10             3                            0   \n",
       "34819                   16             3                            0   \n",
       "1328                    28             3                            0   \n",
       "...                    ...           ...                          ...   \n",
       "6265                    10             3                            0   \n",
       "11284                   34             3                            0   \n",
       "38158                   26             3                            0   \n",
       "860                     16             3                            0   \n",
       "15795                   35             3                            0   \n",
       "\n",
       "       models_male  \n",
       "22607            1  \n",
       "36531            0  \n",
       "24048            1  \n",
       "34819            0  \n",
       "1328             1  \n",
       "...            ...  \n",
       "6265             1  \n",
       "11284            1  \n",
       "38158            1  \n",
       "860              1  \n",
       "15795            1  \n",
       "\n",
       "[28974 rows x 30 columns]"
      ]
     },
     "execution_count": 25,
     "metadata": {},
     "output_type": "execute_result"
    }
   ],
   "source": [
    "train_X"
   ]
  },
  {
   "cell_type": "code",
   "execution_count": 26,
   "id": "9b2185ba-3b32-4aa6-bcde-6979aa1f3cdb",
   "metadata": {
    "id": "9b2185ba-3b32-4aa6-bcde-6979aa1f3cdb"
   },
   "outputs": [],
   "source": [
    "reg = LinearRegression().fit(train_X, train_y)"
   ]
  },
  {
   "cell_type": "code",
   "execution_count": 27,
   "id": "cc234e4f-9fae-4487-848d-6d73c9f922ec",
   "metadata": {
    "colab": {
     "base_uri": "https://localhost:8080/"
    },
    "id": "cc234e4f-9fae-4487-848d-6d73c9f922ec",
    "outputId": "2a7fe6ad-56cc-4016-82bd-54f4a76593dc"
   },
   "outputs": [
    {
     "data": {
      "text/plain": [
       "0.4554873855035074"
      ]
     },
     "execution_count": 27,
     "metadata": {},
     "output_type": "execute_result"
    }
   ],
   "source": [
    "reg.score(train_X, train_y)"
   ]
  },
  {
   "cell_type": "code",
   "execution_count": 28,
   "id": "0c088b49-4516-4abb-820a-aadaaf26b8c5",
   "metadata": {
    "colab": {
     "base_uri": "https://localhost:8080/"
    },
    "id": "0c088b49-4516-4abb-820a-aadaaf26b8c5",
    "outputId": "559eb03d-795b-4910-b97a-944fb10c261d"
   },
   "outputs": [
    {
     "data": {
      "text/plain": [
       "0.4647153732232151"
      ]
     },
     "execution_count": 28,
     "metadata": {},
     "output_type": "execute_result"
    }
   ],
   "source": [
    "reg.score(test_X, test_y)"
   ]
  },
  {
   "cell_type": "code",
   "execution_count": 29,
   "id": "06bd1b1d-3d5a-4c8b-aaf2-db6167e88c38",
   "metadata": {
    "colab": {
     "base_uri": "https://localhost:8080/"
    },
    "id": "06bd1b1d-3d5a-4c8b-aaf2-db6167e88c38",
    "outputId": "2b5b1edd-bef2-417e-f8e3-94eb95bd8a6f"
   },
   "outputs": [
    {
     "data": {
      "text/plain": [
       "29843.042074394034"
      ]
     },
     "execution_count": 29,
     "metadata": {},
     "output_type": "execute_result"
    }
   ],
   "source": [
    "mean_squared_error(reg.predict(train_X), train_y)"
   ]
  },
  {
   "cell_type": "code",
   "execution_count": 30,
   "id": "0a52517d-4ce1-49da-97af-4bfcfa996382",
   "metadata": {
    "colab": {
     "base_uri": "https://localhost:8080/"
    },
    "id": "0a52517d-4ce1-49da-97af-4bfcfa996382",
    "outputId": "95b5e05a-c30c-4ce9-cbf5-1db811f6db80"
   },
   "outputs": [
    {
     "data": {
      "text/plain": [
       "31015.753109119472"
      ]
     },
     "execution_count": 30,
     "metadata": {},
     "output_type": "execute_result"
    }
   ],
   "source": [
    "mean_squared_error(reg.predict(test_X), test_y)"
   ]
  }
 ],
 "metadata": {
  "colab": {
   "provenance": []
  },
  "kernelspec": {
   "display_name": "Python 3 (ipykernel)",
   "language": "python",
   "name": "python3"
  },
  "language_info": {
   "codemirror_mode": {
    "name": "ipython",
    "version": 3
   },
   "file_extension": ".py",
   "mimetype": "text/x-python",
   "name": "python",
   "nbconvert_exporter": "python",
   "pygments_lexer": "ipython3",
   "version": "3.11.7"
  }
 },
 "nbformat": 4,
 "nbformat_minor": 5
}
