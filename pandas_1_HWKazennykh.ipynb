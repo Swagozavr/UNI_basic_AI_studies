{
 "cells": [
  {
   "cell_type": "code",
   "execution_count": 1,
   "metadata": {
    "executionInfo": {
     "elapsed": 1586,
     "status": "ok",
     "timestamp": 1739947867888,
     "user": {
      "displayName": "Екатерина Глазунова",
      "userId": "00980401327405697360"
     },
     "user_tz": -180
    },
    "id": "1H4ud5hc92YZ"
   },
   "outputs": [],
   "source": [
    "import numpy as np\n",
    "import pandas as pd\n",
    "\n",
    "import matplotlib.pyplot as plt\n",
    "%matplotlib inline\n",
    "\n",
    "plt.rcParams[\"figure.figsize\"] = (12,6)"
   ]
  },
  {
   "cell_type": "markdown",
   "metadata": {
    "id": "2wubgrQ0-LFn"
   },
   "source": [
    "# NumPy"
   ]
  },
  {
   "cell_type": "markdown",
   "metadata": {
    "id": "2k7YwLDI-ZTO"
   },
   "source": [
    "**Задача 1**\\\n",
    "Сгенерировать массив из случайных положительных чисел произвольной длины. Вывести элементы, которые больше среднего арифметического."
   ]
  },
  {
   "cell_type": "code",
   "execution_count": 2,
   "metadata": {},
   "outputs": [
    {
     "data": {
      "text/plain": [
       "array([  6,  80,  11,  47, 100,   3,  65,  72, 100,  19,  69,  46,   0,\n",
       "        16,  94,  99,  63,  57,   7,  56])"
      ]
     },
     "execution_count": 2,
     "metadata": {},
     "output_type": "execute_result"
    }
   ],
   "source": [
    "import random\n",
    "\n",
    "size = 20  \n",
    "min_value = 0\n",
    "max_value = 100 \n",
    "l = np.array([random.randint(min_value, max_value) for _ in range(size)])\n",
    "\n",
    "l"
   ]
  },
  {
   "cell_type": "code",
   "execution_count": 3,
   "metadata": {},
   "outputs": [
    {
     "data": {
      "text/plain": [
       "array([ 80, 100,  65,  72, 100,  69,  94,  99,  63,  57,  56])"
      ]
     },
     "execution_count": 3,
     "metadata": {},
     "output_type": "execute_result"
    }
   ],
   "source": [
    "l[l>np.mean(l)] #Значения больше среднего"
   ]
  },
  {
   "cell_type": "markdown",
   "metadata": {
    "id": "Mst7phpH-gRv"
   },
   "source": [
    "**Задача 2**\\\n",
    "Сгенерировать массив из 20 случайных элементов, элементы которого лежат в интервале [0, 10].\n",
    "+ Определить количество элементов, отличающихся от минимального на 5.\n",
    "+ Найти среднее арифметическое всех четных элементов массива, стоящих на нечетных местах."
   ]
  },
  {
   "cell_type": "code",
   "execution_count": 4,
   "metadata": {},
   "outputs": [
    {
     "name": "stdout",
     "output_type": "stream",
     "text": [
      "[ 2  2  8  9  8  7 10  3  9  0  2 10  4  2  2  6  1  3  0  7]\n"
     ]
    }
   ],
   "source": [
    "size = 20\n",
    "min_value = 0\n",
    "max_value = 10\n",
    "l = np.array([random.randint(min_value, max_value) for _ in range(size)])\n",
    "\n",
    "print(l)"
   ]
  },
  {
   "cell_type": "code",
   "execution_count": 5,
   "metadata": {},
   "outputs": [
    {
     "name": "stdout",
     "output_type": "stream",
     "text": [
      "Rоличество элементов, отличающихся от минимального на 5: 0\n"
     ]
    }
   ],
   "source": [
    "print('Rоличество элементов, отличающихся от минимального на 5:', len((l[l == np.min(l)+5])))"
   ]
  },
  {
   "cell_type": "code",
   "execution_count": 6,
   "metadata": {},
   "outputs": [
    {
     "name": "stdout",
     "output_type": "stream",
     "text": [
      "Массив: [ 2  2  8  9  8  7 10  3  9  0  2 10  4  2  2  6  1  3  0  7]\n",
      "Чётные элементы на нечётных местах: [ 2  0 10  2  6]\n",
      "Среднее арифметическое: 4.0\n"
     ]
    }
   ],
   "source": [
    "odd_index_elements = l[1::2]\n",
    "even_elements = odd_index_elements[odd_index_elements % 2 == 0]\n",
    "mean_of_evens = np.mean(even_elements) if len(even_elements) > 0 else 0\n",
    "\n",
    "print(f\"Массив: {l}\")\n",
    "print(f\"Чётные элементы на нечётных местах: {even_elements}\")\n",
    "print(f\"Среднее арифметическое: {mean_of_evens}\")"
   ]
  },
  {
   "cell_type": "markdown",
   "metadata": {
    "id": "JqjshV81-iSg"
   },
   "source": [
    "**Задача 3**\\\n",
    "Сгенерировать матрицу A размером 5 на 5, элементы которой лежат в интервале [1, 10].\n",
    "+ Возвести в квадрат максимальный элемент матрицы.\n",
    "+ Все четные числа заменить на 0."
   ]
  },
  {
   "cell_type": "code",
   "execution_count": 7,
   "metadata": {},
   "outputs": [
    {
     "data": {
      "text/plain": [
       "array([[ 1, 10,  6,  9,  9],\n",
       "       [ 2,  2,  0, 10,  1],\n",
       "       [ 5, 10,  6,  7,  9],\n",
       "       [10,  5,  2,  5,  6],\n",
       "       [ 9,  1,  4,  3,  5]])"
      ]
     },
     "execution_count": 7,
     "metadata": {},
     "output_type": "execute_result"
    }
   ],
   "source": [
    "a = np.random.randint(0, 11, size=(5, 5))\n",
    "a"
   ]
  },
  {
   "cell_type": "code",
   "execution_count": 8,
   "metadata": {},
   "outputs": [
    {
     "name": "stdout",
     "output_type": "stream",
     "text": [
      "Квадрат максимального значения: 100\n"
     ]
    }
   ],
   "source": [
    "print('Квадрат максимального значения:',np.max(a)**2)"
   ]
  },
  {
   "cell_type": "code",
   "execution_count": 9,
   "metadata": {},
   "outputs": [
    {
     "data": {
      "text/plain": [
       "array([[1, 0, 0, 9, 9],\n",
       "       [0, 0, 0, 0, 1],\n",
       "       [5, 0, 0, 7, 9],\n",
       "       [0, 5, 0, 5, 0],\n",
       "       [9, 1, 0, 3, 5]])"
      ]
     },
     "execution_count": 9,
     "metadata": {},
     "output_type": "execute_result"
    }
   ],
   "source": [
    "a[a%2==0] = 0\n",
    "a\n",
    "\n",
    "#Матрица с нулями вместо четных чисел"
   ]
  },
  {
   "cell_type": "markdown",
   "metadata": {
    "id": "CmH-d_86-mFS"
   },
   "source": [
    "**Задача 4**\\\n",
    "Сгенерировать матрицу B размером 5 на 5, элементы которой лежат в интервале [-5, 5]. Отрицательные элементы матрицы заменить на число отрицательных элементов в строке, в которой они находятся."
   ]
  },
  {
   "cell_type": "code",
   "execution_count": 10,
   "metadata": {},
   "outputs": [
    {
     "data": {
      "text/plain": [
       "array([[ 0, -5, -5,  5, -5],\n",
       "       [ 4, -2,  4, -4,  2],\n",
       "       [ 4,  0,  4, -3,  1],\n",
       "       [-5, -2,  5,  0, -3],\n",
       "       [-4,  4, -2,  5,  5]])"
      ]
     },
     "execution_count": 10,
     "metadata": {},
     "output_type": "execute_result"
    }
   ],
   "source": [
    "b = np.random.randint(-5, 6, size=(5, 5))\n",
    "b"
   ]
  },
  {
   "cell_type": "code",
   "execution_count": 11,
   "metadata": {},
   "outputs": [
    {
     "data": {
      "text/plain": [
       "array([[0, 3, 3, 5, 3],\n",
       "       [4, 2, 4, 2, 2],\n",
       "       [4, 0, 4, 1, 1],\n",
       "       [3, 3, 5, 0, 3],\n",
       "       [2, 4, 2, 5, 5]])"
      ]
     },
     "execution_count": 11,
     "metadata": {},
     "output_type": "execute_result"
    }
   ],
   "source": [
    "cntr = 0\n",
    "for i in range(len(b)):\n",
    "    cntr = (len(b[i][b[i]<0]))\n",
    "    b[i][b[i]<0] = cntr\n",
    "b #С замененными отрицательными значениями   "
   ]
  },
  {
   "cell_type": "markdown",
   "metadata": {
    "id": "v37bUhDL-P0e"
   },
   "source": [
    "# Pandas"
   ]
  },
  {
   "cell_type": "code",
   "execution_count": 12,
   "metadata": {
    "executionInfo": {
     "elapsed": 204,
     "status": "ok",
     "timestamp": 1739947868599,
     "user": {
      "displayName": "Екатерина Глазунова",
      "userId": "00980401327405697360"
     },
     "user_tz": -180
    },
    "id": "S7fCa_Th-UzD"
   },
   "outputs": [],
   "source": [
    "df = pd.read_csv(\"https://raw.githubusercontent.com/rolandmueller/titanic/main/titanic3.csv\")"
   ]
  },
  {
   "cell_type": "code",
   "execution_count": 13,
   "metadata": {},
   "outputs": [
    {
     "data": {
      "text/html": [
       "<div>\n",
       "<style scoped>\n",
       "    .dataframe tbody tr th:only-of-type {\n",
       "        vertical-align: middle;\n",
       "    }\n",
       "\n",
       "    .dataframe tbody tr th {\n",
       "        vertical-align: top;\n",
       "    }\n",
       "\n",
       "    .dataframe thead th {\n",
       "        text-align: right;\n",
       "    }\n",
       "</style>\n",
       "<table border=\"1\" class=\"dataframe\">\n",
       "  <thead>\n",
       "    <tr style=\"text-align: right;\">\n",
       "      <th></th>\n",
       "      <th>pclass</th>\n",
       "      <th>survived</th>\n",
       "      <th>name</th>\n",
       "      <th>sex</th>\n",
       "      <th>age</th>\n",
       "      <th>sibsp</th>\n",
       "      <th>parch</th>\n",
       "      <th>ticket</th>\n",
       "      <th>fare</th>\n",
       "      <th>cabin</th>\n",
       "      <th>embarked</th>\n",
       "      <th>boat</th>\n",
       "      <th>body</th>\n",
       "      <th>home.dest</th>\n",
       "    </tr>\n",
       "  </thead>\n",
       "  <tbody>\n",
       "    <tr>\n",
       "      <th>323</th>\n",
       "      <td>2</td>\n",
       "      <td>0</td>\n",
       "      <td>Abelson, Mr. Samuel</td>\n",
       "      <td>male</td>\n",
       "      <td>30.0</td>\n",
       "      <td>1</td>\n",
       "      <td>0</td>\n",
       "      <td>P/PP 3381</td>\n",
       "      <td>24.0000</td>\n",
       "      <td>NaN</td>\n",
       "      <td>C</td>\n",
       "      <td>NaN</td>\n",
       "      <td>NaN</td>\n",
       "      <td>Russia New York, NY</td>\n",
       "    </tr>\n",
       "    <tr>\n",
       "      <th>1296</th>\n",
       "      <td>3</td>\n",
       "      <td>0</td>\n",
       "      <td>Wirz, Mr. Albert</td>\n",
       "      <td>male</td>\n",
       "      <td>27.0</td>\n",
       "      <td>0</td>\n",
       "      <td>0</td>\n",
       "      <td>315154</td>\n",
       "      <td>8.6625</td>\n",
       "      <td>NaN</td>\n",
       "      <td>S</td>\n",
       "      <td>NaN</td>\n",
       "      <td>131.0</td>\n",
       "      <td>NaN</td>\n",
       "    </tr>\n",
       "    <tr>\n",
       "      <th>796</th>\n",
       "      <td>3</td>\n",
       "      <td>0</td>\n",
       "      <td>Everett, Mr. Thomas James</td>\n",
       "      <td>male</td>\n",
       "      <td>40.5</td>\n",
       "      <td>0</td>\n",
       "      <td>0</td>\n",
       "      <td>C.A. 6212</td>\n",
       "      <td>15.1000</td>\n",
       "      <td>NaN</td>\n",
       "      <td>S</td>\n",
       "      <td>NaN</td>\n",
       "      <td>187.0</td>\n",
       "      <td>NaN</td>\n",
       "    </tr>\n",
       "  </tbody>\n",
       "</table>\n",
       "</div>"
      ],
      "text/plain": [
       "      pclass  survived                       name   sex   age  sibsp  parch  \\\n",
       "323        2         0        Abelson, Mr. Samuel  male  30.0      1      0   \n",
       "1296       3         0           Wirz, Mr. Albert  male  27.0      0      0   \n",
       "796        3         0  Everett, Mr. Thomas James  male  40.5      0      0   \n",
       "\n",
       "         ticket     fare cabin embarked boat   body            home.dest  \n",
       "323   P/PP 3381  24.0000   NaN        C  NaN    NaN  Russia New York, NY  \n",
       "1296     315154   8.6625   NaN        S  NaN  131.0                  NaN  \n",
       "796   C.A. 6212  15.1000   NaN        S  NaN  187.0                  NaN  "
      ]
     },
     "execution_count": 13,
     "metadata": {},
     "output_type": "execute_result"
    }
   ],
   "source": [
    "df.sample(3)"
   ]
  },
  {
   "cell_type": "markdown",
   "metadata": {
    "id": "foLOzXST92Yc"
   },
   "source": [
    "**Задание 1**\n",
    "+ Какой была максимальная цена билета? Медиана?\n",
    "+ Какова доля выживших?\n",
    "+ Сколько мужчин / женщин находилось на борту?"
   ]
  },
  {
   "cell_type": "code",
   "execution_count": 14,
   "metadata": {
    "scrolled": true
   },
   "outputs": [
    {
     "name": "stdout",
     "output_type": "stream",
     "text": [
      "Максимальная цена билета: 512.3292\n",
      "Медианная цена билета: 14.4542\n",
      "Доля выживших: 0.3819709702062643\n",
      "Было 843 мужчин и 466 женщин\n"
     ]
    }
   ],
   "source": [
    "print('Максимальная цена билета:',df['fare'].max())\n",
    "print('Медианная цена билета:',df['fare'].median())\n",
    "print('Доля выживших:', df['survived'].sum()/len(df))\n",
    "print('Было', len(df[df['sex'] == 'male']), 'мужчин и', len(df[df['sex'] == 'female']), 'женщин')"
   ]
  },
  {
   "cell_type": "markdown",
   "metadata": {
    "id": "coYGqVML92Ye"
   },
   "source": [
    "**Задание 2**\n",
    "+ Выведите распределение переменной __pclass__ для мужчин и женщин.\n",
    "    + Сколько мужчин было в первом классе?\n",
    "    + Сколько женщин было в третьем классе?\n",
    "      \n",
    "+ Создайте новый признак __age_group__, который равен:\n",
    "    + 1, если пассажир был моложе 30 лет;\n",
    "    + 2, если пассажиру было от 30 до 60 лет;\n",
    "    + 3, если пассажир был старше 60 лет."
   ]
  },
  {
   "cell_type": "code",
   "execution_count": 15,
   "metadata": {},
   "outputs": [
    {
     "data": {
      "image/png": "[encoded data removed]",
      "text/plain": [
       "<Figure size 600x400 with 1 Axes>"
      ]
     },
     "metadata": {},
     "output_type": "display_data"
    }
   ],
   "source": [
    "import seaborn as sns\n",
    "plt.figure(figsize=(6, 4))\n",
    "ax = sns.countplot(data=df, x=\"pclass\", hue=\"sex\")\n",
    "\n",
    "for p in ax.patches:\n",
    "    ax.annotate(p.get_height(), \n",
    "                (p.get_x() + p.get_width()/ 2., p.get_height()),  # координата X (центр столбца)\n",
    "                ha='center')\n",
    "\n",
    "plt.xlabel(\"Класс пассажира\")\n",
    "plt.ylabel(\"Количество\")\n",
    "plt.title(\"Распределение классов по полу\")\n",
    "plt.show()"
   ]
  },
  {
   "cell_type": "markdown",
   "metadata": {},
   "source": [
    "Как следует из графика, 179 мужчин в первом классе и 216 женщин в 3-м классе"
   ]
  },
  {
   "cell_type": "code",
   "execution_count": 16,
   "metadata": {},
   "outputs": [],
   "source": [
    "def get_age_group(age):\n",
    "    if age <30:\n",
    "        return 1\n",
    "    elif age > 60:\n",
    "        return 3\n",
    "    elif 30 <= age <= 60:\n",
    "        return 2\n",
    "    else:\n",
    "        return np.nan\n",
    "\n",
    "# Добавление нового столбца с временем года\n",
    "df['age_group'] = df['age'].apply(get_age_group)"
   ]
  },
  {
   "cell_type": "code",
   "execution_count": 17,
   "metadata": {},
   "outputs": [
    {
     "data": {
      "text/html": [
       "<div>\n",
       "<style scoped>\n",
       "    .dataframe tbody tr th:only-of-type {\n",
       "        vertical-align: middle;\n",
       "    }\n",
       "\n",
       "    .dataframe tbody tr th {\n",
       "        vertical-align: top;\n",
       "    }\n",
       "\n",
       "    .dataframe thead th {\n",
       "        text-align: right;\n",
       "    }\n",
       "</style>\n",
       "<table border=\"1\" class=\"dataframe\">\n",
       "  <thead>\n",
       "    <tr style=\"text-align: right;\">\n",
       "      <th></th>\n",
       "      <th>pclass</th>\n",
       "      <th>survived</th>\n",
       "      <th>name</th>\n",
       "      <th>sex</th>\n",
       "      <th>age</th>\n",
       "      <th>sibsp</th>\n",
       "      <th>parch</th>\n",
       "      <th>ticket</th>\n",
       "      <th>fare</th>\n",
       "      <th>cabin</th>\n",
       "      <th>embarked</th>\n",
       "      <th>boat</th>\n",
       "      <th>body</th>\n",
       "      <th>home.dest</th>\n",
       "      <th>age_group</th>\n",
       "    </tr>\n",
       "  </thead>\n",
       "  <tbody>\n",
       "    <tr>\n",
       "      <th>33</th>\n",
       "      <td>1</td>\n",
       "      <td>1</td>\n",
       "      <td>Bonnell, Miss. Elizabeth</td>\n",
       "      <td>female</td>\n",
       "      <td>58.0</td>\n",
       "      <td>0</td>\n",
       "      <td>0</td>\n",
       "      <td>113783</td>\n",
       "      <td>26.5500</td>\n",
       "      <td>C103</td>\n",
       "      <td>S</td>\n",
       "      <td>8</td>\n",
       "      <td>NaN</td>\n",
       "      <td>Birkdale, England Cleveland, Ohio</td>\n",
       "      <td>2.0</td>\n",
       "    </tr>\n",
       "    <tr>\n",
       "      <th>527</th>\n",
       "      <td>2</td>\n",
       "      <td>0</td>\n",
       "      <td>Parker, Mr. Clifford Richard</td>\n",
       "      <td>male</td>\n",
       "      <td>28.0</td>\n",
       "      <td>0</td>\n",
       "      <td>0</td>\n",
       "      <td>SC 14888</td>\n",
       "      <td>10.5000</td>\n",
       "      <td>NaN</td>\n",
       "      <td>S</td>\n",
       "      <td>NaN</td>\n",
       "      <td>NaN</td>\n",
       "      <td>St Andrews, Guernsey</td>\n",
       "      <td>1.0</td>\n",
       "    </tr>\n",
       "    <tr>\n",
       "      <th>100</th>\n",
       "      <td>1</td>\n",
       "      <td>1</td>\n",
       "      <td>Duff Gordon, Sir. Cosmo Edmund (\"Mr Morgan\")</td>\n",
       "      <td>male</td>\n",
       "      <td>49.0</td>\n",
       "      <td>1</td>\n",
       "      <td>0</td>\n",
       "      <td>PC 17485</td>\n",
       "      <td>56.9292</td>\n",
       "      <td>A20</td>\n",
       "      <td>C</td>\n",
       "      <td>1</td>\n",
       "      <td>NaN</td>\n",
       "      <td>London / Paris</td>\n",
       "      <td>2.0</td>\n",
       "    </tr>\n",
       "  </tbody>\n",
       "</table>\n",
       "</div>"
      ],
      "text/plain": [
       "     pclass  survived                                          name     sex  \\\n",
       "33        1         1                      Bonnell, Miss. Elizabeth  female   \n",
       "527       2         0                  Parker, Mr. Clifford Richard    male   \n",
       "100       1         1  Duff Gordon, Sir. Cosmo Edmund (\"Mr Morgan\")    male   \n",
       "\n",
       "      age  sibsp  parch    ticket     fare cabin embarked boat  body  \\\n",
       "33   58.0      0      0    113783  26.5500  C103        S    8   NaN   \n",
       "527  28.0      0      0  SC 14888  10.5000   NaN        S  NaN   NaN   \n",
       "100  49.0      1      0  PC 17485  56.9292   A20        C    1   NaN   \n",
       "\n",
       "                             home.dest  age_group  \n",
       "33   Birkdale, England Cleveland, Ohio        2.0  \n",
       "527               St Andrews, Guernsey        1.0  \n",
       "100                     London / Paris        2.0  "
      ]
     },
     "execution_count": 17,
     "metadata": {},
     "output_type": "execute_result"
    }
   ],
   "source": [
    "df.sample(3)"
   ]
  },
  {
   "cell_type": "markdown",
   "metadata": {
    "id": "uyYMPpyX92Yf"
   },
   "source": [
    "**Задание 3**\\\n",
    "Найдите самое популярное имя среди пассажиров:\n",
    "+ мужчин;\n",
    "+ женщин."
   ]
  },
  {
   "cell_type": "code",
   "execution_count": 18,
   "metadata": {},
   "outputs": [
    {
     "data": {
      "text/html": [
       "<div>\n",
       "<style scoped>\n",
       "    .dataframe tbody tr th:only-of-type {\n",
       "        vertical-align: middle;\n",
       "    }\n",
       "\n",
       "    .dataframe tbody tr th {\n",
       "        vertical-align: top;\n",
       "    }\n",
       "\n",
       "    .dataframe thead th {\n",
       "        text-align: right;\n",
       "    }\n",
       "</style>\n",
       "<table border=\"1\" class=\"dataframe\">\n",
       "  <thead>\n",
       "    <tr style=\"text-align: right;\">\n",
       "      <th></th>\n",
       "      <th>pclass</th>\n",
       "      <th>survived</th>\n",
       "      <th>name</th>\n",
       "      <th>sex</th>\n",
       "      <th>age</th>\n",
       "      <th>sibsp</th>\n",
       "      <th>parch</th>\n",
       "      <th>ticket</th>\n",
       "      <th>fare</th>\n",
       "      <th>cabin</th>\n",
       "      <th>embarked</th>\n",
       "      <th>boat</th>\n",
       "      <th>body</th>\n",
       "      <th>home.dest</th>\n",
       "      <th>age_group</th>\n",
       "    </tr>\n",
       "  </thead>\n",
       "  <tbody>\n",
       "    <tr>\n",
       "      <th>0</th>\n",
       "      <td>1</td>\n",
       "      <td>1</td>\n",
       "      <td>Allen, Miss. Elisabeth Walton</td>\n",
       "      <td>female</td>\n",
       "      <td>29.0000</td>\n",
       "      <td>0</td>\n",
       "      <td>0</td>\n",
       "      <td>24160</td>\n",
       "      <td>211.3375</td>\n",
       "      <td>B5</td>\n",
       "      <td>S</td>\n",
       "      <td>2</td>\n",
       "      <td>NaN</td>\n",
       "      <td>St Louis, MO</td>\n",
       "      <td>1.0</td>\n",
       "    </tr>\n",
       "    <tr>\n",
       "      <th>1</th>\n",
       "      <td>1</td>\n",
       "      <td>1</td>\n",
       "      <td>Allison, Master. Hudson Trevor</td>\n",
       "      <td>male</td>\n",
       "      <td>0.9167</td>\n",
       "      <td>1</td>\n",
       "      <td>2</td>\n",
       "      <td>113781</td>\n",
       "      <td>151.5500</td>\n",
       "      <td>C22 C26</td>\n",
       "      <td>S</td>\n",
       "      <td>11</td>\n",
       "      <td>NaN</td>\n",
       "      <td>Montreal, PQ / Chesterville, ON</td>\n",
       "      <td>1.0</td>\n",
       "    </tr>\n",
       "    <tr>\n",
       "      <th>2</th>\n",
       "      <td>1</td>\n",
       "      <td>0</td>\n",
       "      <td>Allison, Miss. Helen Loraine</td>\n",
       "      <td>female</td>\n",
       "      <td>2.0000</td>\n",
       "      <td>1</td>\n",
       "      <td>2</td>\n",
       "      <td>113781</td>\n",
       "      <td>151.5500</td>\n",
       "      <td>C22 C26</td>\n",
       "      <td>S</td>\n",
       "      <td>NaN</td>\n",
       "      <td>NaN</td>\n",
       "      <td>Montreal, PQ / Chesterville, ON</td>\n",
       "      <td>1.0</td>\n",
       "    </tr>\n",
       "    <tr>\n",
       "      <th>3</th>\n",
       "      <td>1</td>\n",
       "      <td>0</td>\n",
       "      <td>Allison, Mr. Hudson Joshua Creighton</td>\n",
       "      <td>male</td>\n",
       "      <td>30.0000</td>\n",
       "      <td>1</td>\n",
       "      <td>2</td>\n",
       "      <td>113781</td>\n",
       "      <td>151.5500</td>\n",
       "      <td>C22 C26</td>\n",
       "      <td>S</td>\n",
       "      <td>NaN</td>\n",
       "      <td>135.0</td>\n",
       "      <td>Montreal, PQ / Chesterville, ON</td>\n",
       "      <td>2.0</td>\n",
       "    </tr>\n",
       "    <tr>\n",
       "      <th>4</th>\n",
       "      <td>1</td>\n",
       "      <td>0</td>\n",
       "      <td>Allison, Mrs. Hudson J C (Bessie Waldo Daniels)</td>\n",
       "      <td>female</td>\n",
       "      <td>25.0000</td>\n",
       "      <td>1</td>\n",
       "      <td>2</td>\n",
       "      <td>113781</td>\n",
       "      <td>151.5500</td>\n",
       "      <td>C22 C26</td>\n",
       "      <td>S</td>\n",
       "      <td>NaN</td>\n",
       "      <td>NaN</td>\n",
       "      <td>Montreal, PQ / Chesterville, ON</td>\n",
       "      <td>1.0</td>\n",
       "    </tr>\n",
       "  </tbody>\n",
       "</table>\n",
       "</div>"
      ],
      "text/plain": [
       "   pclass  survived                                             name     sex  \\\n",
       "0       1         1                    Allen, Miss. Elisabeth Walton  female   \n",
       "1       1         1                   Allison, Master. Hudson Trevor    male   \n",
       "2       1         0                     Allison, Miss. Helen Loraine  female   \n",
       "3       1         0             Allison, Mr. Hudson Joshua Creighton    male   \n",
       "4       1         0  Allison, Mrs. Hudson J C (Bessie Waldo Daniels)  female   \n",
       "\n",
       "       age  sibsp  parch  ticket      fare    cabin embarked boat   body  \\\n",
       "0  29.0000      0      0   24160  211.3375       B5        S    2    NaN   \n",
       "1   0.9167      1      2  113781  151.5500  C22 C26        S   11    NaN   \n",
       "2   2.0000      1      2  113781  151.5500  C22 C26        S  NaN    NaN   \n",
       "3  30.0000      1      2  113781  151.5500  C22 C26        S  NaN  135.0   \n",
       "4  25.0000      1      2  113781  151.5500  C22 C26        S  NaN    NaN   \n",
       "\n",
       "                         home.dest  age_group  \n",
       "0                     St Louis, MO        1.0  \n",
       "1  Montreal, PQ / Chesterville, ON        1.0  \n",
       "2  Montreal, PQ / Chesterville, ON        1.0  \n",
       "3  Montreal, PQ / Chesterville, ON        2.0  \n",
       "4  Montreal, PQ / Chesterville, ON        1.0  "
      ]
     },
     "execution_count": 18,
     "metadata": {},
     "output_type": "execute_result"
    }
   ],
   "source": [
    "df.head()"
   ]
  },
  {
   "cell_type": "code",
   "execution_count": 19,
   "metadata": {},
   "outputs": [
    {
     "data": {
      "text/plain": [
       "first_name\n",
       "William    50\n",
       "Name: count, dtype: int64"
      ]
     },
     "execution_count": 19,
     "metadata": {},
     "output_type": "execute_result"
    }
   ],
   "source": [
    "#МУЖСКОЕ ИМЯ\n",
    "df['first_name'] = df[\"name\"].str.split(\", \").str[1].str.split().str[1]\n",
    "df[df['sex'] == 'male']['first_name'].value_counts().head(1)"
   ]
  },
  {
   "cell_type": "code",
   "execution_count": 20,
   "metadata": {},
   "outputs": [
    {
     "data": {
      "text/plain": [
       "first_name\n",
       "William    16\n",
       "Name: count, dtype: int64"
      ]
     },
     "execution_count": 20,
     "metadata": {},
     "output_type": "execute_result"
    }
   ],
   "source": [
    "#ЖЕНСКОЕ ИМЯ\n",
    "df['first_name'] = df[\"name\"].str.split(\", \").str[1].str.split().str[1]\n",
    "df[df['sex'] == 'female']['first_name'].value_counts().head(1)"
   ]
  },
  {
   "cell_type": "markdown",
   "metadata": {},
   "source": [
    "Самое популярное женское имя - Вильям... Это произошло, т.к. данные необработаны. Нам сказано не делать предобработку, так что пускай останется как есть..."
   ]
  },
  {
   "cell_type": "markdown",
   "metadata": {
    "id": "b97bzlSF92Yg",
    "tags": []
   },
   "source": [
    "**Задание 4**\n",
    "+ Выведите данные о всех пассажирах, которые сели в Cherbourg (Embarked='C') и были старше 50 лет.\n",
    "+ Выведите данные о всех женщинах младше 20 и старше 50 лет.\n",
    "+ Сколько пассажиров старше 70 лет было на борту?"
   ]
  },
  {
   "cell_type": "code",
   "execution_count": 21,
   "metadata": {},
   "outputs": [
    {
     "name": "stdout",
     "output_type": "stream",
     "text": [
      "     pclass  survived                                               name  \\\n",
      "9         1         0                            Artagaveytia, Mr. Ramon   \n",
      "43        1         1    Bucknell, Mrs. William Robert (Emma Eliza Ward)   \n",
      "48        1         1   Candee, Mrs. Edward (Helen Churchill Hungerford)   \n",
      "50        1         1  Cardeza, Mrs. James Warburton Martinez (Charlo...   \n",
      "78        1         1  Compton, Mrs. Alexander Taylor (Mary Eliza Ing...   \n",
      "104       1         1                     Eustis, Miss. Elizabeth Mussey   \n",
      "123       1         1                   Frolicher-Stehli, Mr. Maxmillian   \n",
      "135       1         0                          Goldschmidt, Mr. George B   \n",
      "136       1         1                          Gracie, Col. Archibald IV   \n",
      "174       1         0                            Kent, Mr. Edward Austin   \n",
      "186       1         1          Lindstrom, Mrs. Carl Johan (Sigrid Posse)   \n",
      "192       1         1                               Lurette, Miss. Elise   \n",
      "215       1         0                         Newell, Mr. Arthur Webster   \n",
      "221       1         0                     Ostby, Mr. Engelhart Cornelius   \n",
      "233       1         1      Potter, Mrs. Thomas Jr (Lily Alexenia Wilson)   \n",
      "246       1         0                             Rothschild, Mr. Martin   \n",
      "247       1         1     Rothschild, Mrs. Martin (Elizabeth L. Barrett)   \n",
      "252       1         0                         Ryerson, Mr. Arthur Larned   \n",
      "264       1         1                Simonius-Blumer, Col. Oberst Alfons   \n",
      "267       1         0                            Smith, Mr. James Clinch   \n",
      "276       1         0                      Spencer, Mr. William Augustus   \n",
      "280       1         1                    Stengel, Mr. Charles Emil Henry   \n",
      "282       1         1    Stephenson, Mrs. Walter Bertram (Martha Eustis)   \n",
      "303       1         0                           Warren, Mr. Frank Manley   \n",
      "304       1         1   Warren, Mrs. Frank Manley (Anna Sophia Atkinson)   \n",
      "308       1         1              White, Mrs. John Stuart (Ella Holmes)   \n",
      "316       1         0                        Williams, Mr. Charles Duane   \n",
      "\n",
      "        sex   age  sibsp  parch    ticket      fare            cabin embarked  \\\n",
      "9      male  71.0      0      0  PC 17609   49.5042              NaN        C   \n",
      "43   female  60.0      0      0     11813   76.2917              D15        C   \n",
      "48   female  53.0      0      0  PC 17606   27.4458              NaN        C   \n",
      "50   female  58.0      0      1  PC 17755  512.3292      B51 B53 B55        C   \n",
      "78   female  64.0      0      2  PC 17756   83.1583              E45        C   \n",
      "104  female  54.0      1      0     36947   78.2667              D20        C   \n",
      "123    male  60.0      1      1     13567   79.2000              B41        C   \n",
      "135    male  71.0      0      0  PC 17754   34.6542               A5        C   \n",
      "136    male  53.0      0      0    113780   28.5000              C51        C   \n",
      "174    male  58.0      0      0     11771   29.7000              B37        C   \n",
      "186  female  55.0      0      0    112377   27.7208              NaN        C   \n",
      "192  female  58.0      0      0  PC 17569  146.5208              B80        C   \n",
      "215    male  58.0      0      2     35273  113.2750              D48        C   \n",
      "221    male  65.0      0      1    113509   61.9792              B30        C   \n",
      "233  female  56.0      0      1     11767   83.1583              C50        C   \n",
      "246    male  55.0      1      0  PC 17603   59.4000              NaN        C   \n",
      "247  female  54.0      1      0  PC 17603   59.4000              NaN        C   \n",
      "252    male  61.0      1      3  PC 17608  262.3750  B57 B59 B63 B66        C   \n",
      "264    male  56.0      0      0     13213   35.5000              A26        C   \n",
      "267    male  56.0      0      0     17764   30.6958               A7        C   \n",
      "276    male  57.0      1      0  PC 17569  146.5208              B78        C   \n",
      "280    male  54.0      1      0     11778   55.4417             C116        C   \n",
      "282  female  52.0      1      0     36947   78.2667              D20        C   \n",
      "303    male  64.0      1      0    110813   75.2500              D37        C   \n",
      "304  female  60.0      1      0    110813   75.2500              D37        C   \n",
      "308  female  55.0      0      0  PC 17760  135.6333              C32        C   \n",
      "316    male  51.0      0      1  PC 17597   61.3792              NaN        C   \n",
      "\n",
      "    boat   body                           home.dest  age_group  first_name  \n",
      "9    NaN   22.0                 Montevideo, Uruguay        3.0       Ramon  \n",
      "43     8    NaN                    Philadelphia, PA        2.0     William  \n",
      "48     6    NaN                      Washington, DC        2.0      Edward  \n",
      "50     3    NaN        Germantown, Philadelphia, PA        2.0       James  \n",
      "78    14    NaN                        Lakewood, NJ        3.0   Alexander  \n",
      "104    4    NaN                       Brookline, MA        2.0   Elizabeth  \n",
      "123    5    NaN                 Zurich, Switzerland        2.0  Maxmillian  \n",
      "135  NaN    NaN                        New York, NY        3.0      George  \n",
      "136    B    NaN                      Washington, DC        2.0   Archibald  \n",
      "174  NaN  258.0                         Buffalo, NY        2.0      Edward  \n",
      "186    6    NaN                   Stockholm, Sweden        2.0        Carl  \n",
      "192  NaN    NaN                                 NaN        2.0       Elise  \n",
      "215  NaN  122.0                       Lexington, MA        2.0      Arthur  \n",
      "221  NaN  234.0                      Providence, RI        3.0   Engelhart  \n",
      "233    7    NaN           Mt Airy, Philadelphia, PA        2.0      Thomas  \n",
      "246  NaN    NaN                        New York, NY        2.0      Martin  \n",
      "247    6    NaN                        New York, NY        2.0      Martin  \n",
      "252  NaN    NaN     Haverford, PA / Cooperstown, NY        3.0      Arthur  \n",
      "264    3    NaN                  Basel, Switzerland        2.0      Oberst  \n",
      "267  NaN    NaN           St James, Long Island, NY        2.0       James  \n",
      "276  NaN    NaN                       Paris, France        2.0     William  \n",
      "280    1    NaN                          Newark, NJ        2.0     Charles  \n",
      "282    4    NaN                       Haverford, PA        2.0      Walter  \n",
      "303  NaN    NaN                        Portland, OR        3.0       Frank  \n",
      "304    5    NaN                        Portland, OR        2.0       Frank  \n",
      "308    8    NaN  New York, NY / Briarcliff Manor NY        2.0        John  \n",
      "316  NaN    NaN    Geneva, Switzerland / Radnor, PA        2.0     Charles  \n"
     ]
    }
   ],
   "source": [
    "cherbourg_50 = df[(df['embarked'] == 'C') & (df['age'] > 50)]\n",
    "print(cherbourg_50)"
   ]
  },
  {
   "cell_type": "code",
   "execution_count": 22,
   "metadata": {},
   "outputs": [
    {
     "name": "stdout",
     "output_type": "stream",
     "text": [
      "      pclass  survived                                               name  \\\n",
      "2          1         0                       Allison, Miss. Helen Loraine   \n",
      "6          1         1                  Andrews, Miss. Kornelia Theodosia   \n",
      "8          1         1      Appleton, Mrs. Edward Dale (Charlotte Lamson)   \n",
      "11         1         1  Astor, Mrs. John Jacob (Madeleine Talmadge Force)   \n",
      "27         1         1            Bishop, Mrs. Dickinson H (Helen Walton)   \n",
      "...      ...       ...                                                ...   \n",
      "1265       3         0                          Van Impe, Miss. Catharina   \n",
      "1273       3         0                 Vander Planke, Miss. Augusta Maria   \n",
      "1279       3         0               Vestrom, Miss. Hulda Amanda Adolfina   \n",
      "1300       3         1            Yasbeck, Mrs. Antoni (Selini Alexander)   \n",
      "1304       3         0                               Zabour, Miss. Hileni   \n",
      "\n",
      "         sex   age  sibsp  parch    ticket      fare    cabin embarked boat  \\\n",
      "2     female   2.0      1      2    113781  151.5500  C22 C26        S  NaN   \n",
      "6     female  63.0      1      0     13502   77.9583       D7        S   10   \n",
      "8     female  53.0      2      0     11769   51.4792     C101        S    D   \n",
      "11    female  18.0      1      0  PC 17757  227.5250  C62 C64        C    4   \n",
      "27    female  19.0      1      0     11967   91.0792      B49        C    7   \n",
      "...      ...   ...    ...    ...       ...       ...      ...      ...  ...   \n",
      "1265  female  10.0      0      2    345773   24.1500      NaN        S  NaN   \n",
      "1273  female  18.0      2      0    345764   18.0000      NaN        S  NaN   \n",
      "1279  female  14.0      0      0    350406    7.8542      NaN        S  NaN   \n",
      "1300  female  15.0      1      0      2659   14.4542      NaN        C  NaN   \n",
      "1304  female  14.5      1      0      2665   14.4542      NaN        C  NaN   \n",
      "\n",
      "       body                        home.dest  age_group first_name  \n",
      "2       NaN  Montreal, PQ / Chesterville, ON        1.0      Helen  \n",
      "6       NaN                       Hudson, NY        3.0   Kornelia  \n",
      "8       NaN              Bayside, Queens, NY        2.0     Edward  \n",
      "11      NaN                     New York, NY        1.0       John  \n",
      "27      NaN                     Dowagiac, MI        1.0  Dickinson  \n",
      "...     ...                              ...        ...        ...  \n",
      "1265    NaN                              NaN        1.0  Catharina  \n",
      "1273    NaN                              NaN        1.0    Augusta  \n",
      "1279    NaN                              NaN        1.0      Hulda  \n",
      "1300    NaN                              NaN        1.0     Antoni  \n",
      "1304  328.0                              NaN        1.0     Hileni  \n",
      "\n",
      "[135 rows x 16 columns]\n"
     ]
    }
   ],
   "source": [
    "women_young_old = df[(df['sex'] == 'female') & ((df['age'] < 20) | (df['age'] > 50))]\n",
    "print(women_young_old)"
   ]
  },
  {
   "cell_type": "code",
   "execution_count": 23,
   "metadata": {},
   "outputs": [
    {
     "name": "stdout",
     "output_type": "stream",
     "text": [
      "Пассажиров старше 70 лет: 6\n"
     ]
    }
   ],
   "source": [
    "passengers_70_plus = df[df['age'] > 70].shape[0]\n",
    "print(\"Пассажиров старше 70 лет:\", passengers_70_plus)"
   ]
  },
  {
   "cell_type": "markdown",
   "metadata": {
    "id": "Yt6UE4KS92Yk"
   },
   "source": [
    "**Задание 5**\n",
    "+ Посчитайте средний возраст среди мужчин и среди женщин.\n",
    "+ Посчитайте доли выживших в различных возрастных группах (новый признак **AgeGroup**).\n",
    "+ Найдите максимальную стоимость билета в каждом из ценовых классов."
   ]
  },
  {
   "cell_type": "code",
   "execution_count": 24,
   "metadata": {},
   "outputs": [
    {
     "name": "stdout",
     "output_type": "stream",
     "text": [
      "Средний возраст мужчин 30.5852329787234\n",
      "Средний возраст женщин 28.6870706185567\n"
     ]
    }
   ],
   "source": [
    "print('Средний возраст мужчин', df[df['sex'] == 'male']['age'].mean()) #\n",
    "print('Средний возраст женщин', df[df['sex'] == 'female']['age'].mean()) #Средний возраст женщин"
   ]
  },
  {
   "cell_type": "code",
   "execution_count": 25,
   "metadata": {},
   "outputs": [
    {
     "name": "stdout",
     "output_type": "stream",
     "text": [
      "В группе 1.0 0.4094903339191564 доля выживших\n",
      "В группе 2.0 0.4189189189189189 доля выживших\n",
      "В группе 3.0 0.24242424242424243 доля выживших\n"
     ]
    }
   ],
   "source": [
    "for entry in [1.0, 2.0, 3.0]:\n",
    "    print('В группе', entry, len(df[(df['age_group'] == entry) & (df['survived'] == 1)])/len(df[df['age_group'] == entry]), 'доля выживших')"
   ]
  },
  {
   "cell_type": "code",
   "execution_count": 26,
   "metadata": {},
   "outputs": [
    {
     "name": "stdout",
     "output_type": "stream",
     "text": [
      "Максимальная стоимость билета в классе pclass\n",
      "1    512.3292\n",
      "2     73.5000\n",
      "3     69.5500\n",
      "Name: fare, dtype: float64\n"
     ]
    }
   ],
   "source": [
    "print('Максимальная стоимость билета в классе', df.groupby(\"pclass\")[\"fare\"].max())"
   ]
  },
  {
   "cell_type": "markdown",
   "metadata": {
    "id": "UgnIqugM92Yl"
   },
   "source": [
    "**Задание 6**\\\n",
    "Ответьте на предыдущие вопросы с помощью функции crosstab и метода pivot_table."
   ]
  },
  {
   "cell_type": "code",
   "execution_count": 29,
   "metadata": {},
   "outputs": [
    {
     "name": "stdout",
     "output_type": "stream",
     "text": [
      "Средний возраст среди мужчин и женщин:\n",
      "               age\n",
      "sex              \n",
      "female  28.687071\n",
      "male    30.585233\n",
      "Доли выживших в различных возрастных группах:\n",
      " survived           0          1\n",
      "age_group                      \n",
      "1.0        59.050967  40.949033\n",
      "2.0        58.108108  41.891892\n",
      "3.0        75.757576  24.242424\n",
      "Максимальная стоимость билета в каждом классе:\n",
      "             fare\n",
      "pclass          \n",
      "1       512.3292\n",
      "2        73.5000\n",
      "3        69.5500\n"
     ]
    }
   ],
   "source": [
    "mean_age_by_sex = df.pivot_table(values='age', index='sex', aggfunc='mean')\n",
    "print(\"Средний возраст среди мужчин и женщин:\\n\", mean_age_by_sex)\n",
    "\n",
    "survival_by_age_group = pd.crosstab(df['age_group'], df['survived'], normalize='index') * 100\n",
    "print(\"Доли выживших в различных возрастных группах:\\n\", survival_by_age_group)\n",
    "\n",
    "max_fare_by_pclass = df.pivot_table(values='fare', index='pclass', aggfunc='max')\n",
    "print(\"Максимальная стоимость билета в каждом классе:\\n\", max_fare_by_pclass)"
   ]
  }
 ],
 "metadata": {
  "colab": {
   "provenance": []
  },
  "kernelspec": {
   "display_name": "Python 3 (ipykernel)",
   "language": "python",
   "name": "python3"
  },
  "language_info": {
   "codemirror_mode": {
    "name": "ipython",
    "version": 3
   },
   "file_extension": ".py",
   "mimetype": "text/x-python",
   "name": "python",
   "nbconvert_exporter": "python",
   "pygments_lexer": "ipython3",
   "version": "3.11.7"
  }
 },
 "nbformat": 4,
 "nbformat_minor": 4
}
